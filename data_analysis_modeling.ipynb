{
 "cells": [
  {
   "cell_type": "markdown",
   "metadata": {},
   "source": [
    "## Substance Classification via Personality Trait Information\n",
    "Jacob Levine \n",
    "\n",
    "Given information regarding an individual's personality traits, can we predict whether they are at risk for using certain substances? Analyzing whether someone is more or less likely to use marijuana, nicotine and cocaine based on their psychological and emotional makeup.  \n",
    "\n",
    "Experimentation with Multilabel Random Forest Classification. Attempting to create a multilabel model that can predict likelihood of substance use for 10 separate dependent variables. Achieved low accuracy but reasonable F1 score.\n"
   ]
  },
  {
   "cell_type": "code",
   "execution_count": 4,
   "metadata": {},
   "outputs": [
    {
     "name": "stdout",
     "output_type": "stream",
     "text": [
      "Populating the interactive namespace from numpy and matplotlib\n"
     ]
    }
   ],
   "source": [
    "#Imports\n",
    "import pandas as pd \n",
    "import numpy as np\n",
    "import seaborn as sns\n",
    "from sklearn.tree import DecisionTreeClassifier\n",
    "from sklearn.ensemble import RandomForestClassifier\n",
    "from sklearn.model_selection import train_test_split\n",
    "import sklearn.metrics\n",
    "from sklearn.metrics import mean_squared_error, accuracy_score\n",
    "from sklearn.externals.six import StringIO\n",
    "from sklearn.preprocessing import StandardScaler, PolynomialFeatures\n",
    "from sklearn import svm\n",
    "import pickle\n",
    "sns.set_style('darkgrid')\n",
    "pd.set_option('max_columns', 100)\n",
    "\n",
    "#Visualization\n",
    "%pylab inline\n",
    "from IPython.display import Image\n",
    "import pydotplus\n",
    "from sklearn.tree import export_graphviz\n",
    "from pprint import pprint\n",
    "\n",
    "#SMOTE for unbalanced classes\n",
    "from imblearn.over_sampling import SMOTE"
   ]
  },
  {
   "cell_type": "code",
   "execution_count": 5,
   "metadata": {
    "collapsed": true
   },
   "outputs": [],
   "source": [
    "#Reading in Drug Consumption Dataset \n",
    "url = 'https://archive.ics.uci.edu/ml/machine-learning-databases/00373/drug_consumption.data'\n",
    "names = ['ID', 'Age', 'Gender', 'Education', 'Country',\n",
    "         'Ethnicity', 'Nscore', 'Escore', 'Oscore', 'Ascore', 'Cscore', 'Impulsive', \n",
    "        'SS', 'Alc', 'Amphet', 'Amyl', 'Benzos', 'Caffeine', 'Weed', 'Chocolate', \n",
    "        'Coke', 'Crack', 'Ecstasy', 'Heroin', 'Ket', 'Legalh', 'LSD', 'Meth', \n",
    "        'Shrooms', 'Nicotine', 'Semer', 'VSA']\n",
    "\n",
    "drug_df = pd.read_csv(url, header=None, names=names)"
   ]
  },
  {
   "cell_type": "code",
   "execution_count": 6,
   "metadata": {
    "collapsed": true
   },
   "outputs": [],
   "source": [
    "#Get rid of ID column \n",
    "del drug_df['ID']"
   ]
  },
  {
   "cell_type": "code",
   "execution_count": 7,
   "metadata": {
    "collapsed": true,
    "scrolled": true
   },
   "outputs": [],
   "source": [
    "#age_dummies = pd.get_dummies(drug_df['Age'])\n",
    "#age_dummies.columns = ['18-24', '25-34', '35-44', '45-54', '55-64', '65+']\n",
    "#drug_df = pd.concat([drug_df, age_dummies], axis=1)\n",
    "#drug_df.drop('Age', inplace=True, axis=1)"
   ]
  },
  {
   "cell_type": "code",
   "execution_count": 8,
   "metadata": {
    "collapsed": true,
    "scrolled": false
   },
   "outputs": [],
   "source": [
    "#Replacing 'CL' values with numeric values for easier analysis \n",
    "drug_df.replace('CL0', 0, inplace=True)\n",
    "drug_df.replace('CL1', 1, inplace=True)\n",
    "drug_df.replace('CL2', 2, inplace=True)\n",
    "drug_df.replace('CL3', 3, inplace=True)\n",
    "drug_df.replace('CL4', 4, inplace=True)\n",
    "drug_df.replace('CL5', 5, inplace=True)\n",
    "drug_df.replace('CL6', 6, inplace=True)"
   ]
  },
  {
   "cell_type": "code",
   "execution_count": 9,
   "metadata": {
    "collapsed": true,
    "scrolled": true
   },
   "outputs": [],
   "source": [
    "# #Examining value counts for each column \n",
    "# for col in drug_df.columns:\n",
    "#     print(\"--------------------------\")\n",
    "#     print(drug_df[col].value_counts().sort_index())"
   ]
  },
  {
   "cell_type": "code",
   "execution_count": 10,
   "metadata": {
    "collapsed": true
   },
   "outputs": [],
   "source": [
    "# drug_df.dtypes"
   ]
  },
  {
   "cell_type": "code",
   "execution_count": 14,
   "metadata": {},
   "outputs": [
    {
     "data": {
      "image/png": "[encoded data removed]",
      "text/plain": [
       "<matplotlib.figure.Figure at 0x1a113c45f8>"
      ]
     },
     "metadata": {},
     "output_type": "display_data"
    }
   ],
   "source": [
    "weed_groups = drug_df.groupby('Age')['Weed'].count()\n",
    "weed_groups.plot(kind='bar', color='g')\n",
    "xlabel(\"Age Group\")\n",
    "ylabel(\"Count\");"
   ]
  },
  {
   "cell_type": "code",
   "execution_count": 15,
   "metadata": {
    "collapsed": true,
    "scrolled": true
   },
   "outputs": [],
   "source": [
    "# #Drug Use by Gender\n",
    "# for drug in drug_df.columns[12:]:\n",
    "#     groupby = drug_df.groupby('Gender')[drug].sum()\n",
    "#     print(groupby) "
   ]
  },
  {
   "cell_type": "code",
   "execution_count": 16,
   "metadata": {},
   "outputs": [
    {
     "data": {
      "text/plain": [
       "Age\n",
       "-0.95197    333\n",
       "-0.07854    192\n",
       " 0.49788     99\n",
       " 1.09449     67\n",
       " 1.82213     14\n",
       " 2.59171      0\n",
       "Name: Heroin, dtype: int64"
      ]
     },
     "execution_count": 16,
     "metadata": {},
     "output_type": "execute_result"
    }
   ],
   "source": [
    "drug_df.groupby('Age')['Heroin'].sum()"
   ]
  },
  {
   "cell_type": "code",
   "execution_count": 17,
   "metadata": {
    "collapsed": true
   },
   "outputs": [],
   "source": [
    "corr = drug_df.corr()"
   ]
  },
  {
   "cell_type": "code",
   "execution_count": 18,
   "metadata": {},
   "outputs": [
    {
     "data": {
      "image/png": "[encoded data removed]",
      "text/plain": [
       "<matplotlib.figure.Figure at 0x1a112ba320>"
      ]
     },
     "metadata": {},
     "output_type": "display_data"
    }
   ],
   "source": [
    "fig, ax = plt.subplots(figsize=(18, 14))\n",
    "sns.heatmap(corr, cmap='coolwarm', linewidths=0.2);"
   ]
  },
  {
   "cell_type": "code",
   "execution_count": 19,
   "metadata": {
    "scrolled": true
   },
   "outputs": [],
   "source": [
    "#Dummify Country column and Ethnicity column \n",
    "country_dummies = pd.get_dummies(drug_df['Country'])\n",
    "country_dummies.columns = ['USA', 'NZ', 'Other', 'Australia', 'Ireland', 'Canada', 'UK']\n",
    "#country_dummies"
   ]
  },
  {
   "cell_type": "code",
   "execution_count": 20,
   "metadata": {
    "collapsed": true
   },
   "outputs": [],
   "source": [
    "drug_df = pd.concat([drug_df, country_dummies], axis=1)\n",
    "#drug_df"
   ]
  },
  {
   "cell_type": "code",
   "execution_count": 21,
   "metadata": {
    "collapsed": true
   },
   "outputs": [],
   "source": [
    "#Dummify Ethnicity column \n",
    "ethnicity_dummies = pd.get_dummies(drug_df['Ethnicity'])\n",
    "ethnicity_dummies.columns = ['Black', 'Asian', 'White', 'Mixed_WB', 'Other', 'Mixed_WA', 'Mixed_BA']"
   ]
  },
  {
   "cell_type": "code",
   "execution_count": 22,
   "metadata": {
    "collapsed": true
   },
   "outputs": [],
   "source": [
    "drug_df = pd.concat([drug_df, ethnicity_dummies], axis=1)\n",
    "#drug_df"
   ]
  },
  {
   "cell_type": "code",
   "execution_count": 24,
   "metadata": {
    "collapsed": true
   },
   "outputs": [],
   "source": [
    "drug_df.drop(['Country', 'Ethnicity'], axis=1, inplace=True)"
   ]
  },
  {
   "cell_type": "markdown",
   "metadata": {},
   "source": [
    "## First Model Attempt\n",
    "\n",
    "Let's look at the 'Weed' Column. I want to predict weed use only, based on all my features. "
   ]
  },
  {
   "cell_type": "code",
   "execution_count": 25,
   "metadata": {
    "collapsed": true
   },
   "outputs": [],
   "source": [
    "from sklearn.model_selection import train_test_split, KFold, cross_val_score\n",
    "from sklearn import metrics\n",
    "from sklearn.linear_model import LogisticRegression\n",
    "from sklearn.ensemble import RandomForestClassifier\n",
    "from scipy import stats\n",
    "np.set_printoptions(threshold=np.nan)"
   ]
  },
  {
   "cell_type": "code",
   "execution_count": 26,
   "metadata": {
    "collapsed": true
   },
   "outputs": [],
   "source": [
    "#classification with weed column as y \n",
    "y = drug_df.Weed\n",
    "X = drug_df.drop('Weed', axis=1)\n",
    "\n",
    "logreg = LogisticRegression(C=1e9, multi_class='ovr')\n",
    "logreg.fit(X, y)\n",
    "y_pred = logreg.predict(X)"
   ]
  },
  {
   "cell_type": "code",
   "execution_count": 27,
   "metadata": {},
   "outputs": [
    {
     "data": {
      "text/plain": [
       "0.50663129973474796"
      ]
     },
     "execution_count": 27,
     "metadata": {},
     "output_type": "execute_result"
    }
   ],
   "source": [
    "metrics.accuracy_score(y, y_pred)"
   ]
  },
  {
   "cell_type": "code",
   "execution_count": 28,
   "metadata": {
    "collapsed": true
   },
   "outputs": [],
   "source": [
    "#Dropping Certain drug columns that I do not want to work with \n",
    "drug_df.drop(['Semer', 'VSA'], axis=1, inplace=True)\n",
    "drug_df.drop(['Amyl', 'Legalh'], axis=1, inplace=True)"
   ]
  },
  {
   "cell_type": "markdown",
   "metadata": {},
   "source": [
    "# Binarize the drug columns\n",
    "\n",
    "Binary predictions for the various drug classes.   \n",
    "0 - Non User  \n",
    "1 - User "
   ]
  },
  {
   "cell_type": "code",
   "execution_count": 29,
   "metadata": {
    "collapsed": true
   },
   "outputs": [],
   "source": [
    "#2 is threshold\n",
    "thresh = 2\n",
    "drug_df.columns\n",
    "drug_columns = drug_df.columns[10:25]\n",
    "for col in drug_columns:\n",
    "    drug_df[col] = np.where(drug_df[col] > thresh, 1, 0)"
   ]
  },
  {
   "cell_type": "code",
   "execution_count": 30,
   "metadata": {
    "collapsed": true
   },
   "outputs": [],
   "source": [
    "#Creating copy df\n",
    "drug_df_copy = drug_df.copy()"
   ]
  },
  {
   "cell_type": "code",
   "execution_count": 31,
   "metadata": {
    "collapsed": true,
    "scrolled": true
   },
   "outputs": [],
   "source": [
    "# for col in drug_columns:\n",
    "#     print(drug_df_copy[col].value_counts())"
   ]
  },
  {
   "cell_type": "markdown",
   "metadata": {},
   "source": [
    "# Logistic Regression - Weed - All Features \n",
    "Cross Validation Process "
   ]
  },
  {
   "cell_type": "code",
   "execution_count": 32,
   "metadata": {},
   "outputs": [
    {
     "data": {
      "text/plain": [
       "Index(['Age', 'Gender', 'Education', 'Nscore', 'Escore', 'Oscore', 'Ascore',\n",
       "       'Cscore', 'Impulsive', 'SS', 'Alc', 'Amphet', 'Benzos', 'Caffeine',\n",
       "       'Weed', 'Chocolate', 'Coke', 'Crack', 'Ecstasy', 'Heroin', 'Ket', 'LSD',\n",
       "       'Meth', 'Shrooms', 'Nicotine', 'USA', 'NZ', 'Other', 'Australia',\n",
       "       'Ireland', 'Canada', 'UK', 'Black', 'Asian', 'White', 'Mixed_WB',\n",
       "       'Other', 'Mixed_WA', 'Mixed_BA'],\n",
       "      dtype='object')"
      ]
     },
     "execution_count": 32,
     "metadata": {},
     "output_type": "execute_result"
    }
   ],
   "source": [
    "drug_df_copy.columns"
   ]
  },
  {
   "cell_type": "code",
   "execution_count": 33,
   "metadata": {
    "collapsed": true
   },
   "outputs": [],
   "source": [
    "X = drug_df_copy.drop('Weed', axis=1)\n",
    "y = drug_df_copy.loc[:, 'Weed']"
   ]
  },
  {
   "cell_type": "code",
   "execution_count": 34,
   "metadata": {
    "collapsed": true
   },
   "outputs": [],
   "source": [
    "X_train, X_test, y_train, y_test = train_test_split(X, y, test_size = 0.3)"
   ]
  },
  {
   "cell_type": "code",
   "execution_count": 35,
   "metadata": {},
   "outputs": [
    {
     "name": "stdout",
     "output_type": "stream",
     "text": [
      "(1319, 38)\n",
      "(566, 38)\n",
      "(1319,)\n",
      "(566,)\n"
     ]
    }
   ],
   "source": [
    "print(X_train.shape)\n",
    "print(X_test.shape)\n",
    "print(y_train.shape)\n",
    "print(y_test.shape)"
   ]
  },
  {
   "cell_type": "code",
   "execution_count": 36,
   "metadata": {
    "collapsed": true
   },
   "outputs": [],
   "source": [
    "#Standardize the personality trait features before running random forests\n",
    "scaler = StandardScaler()\n",
    "#Scale X dataset for random forests\n",
    "scaler.fit(X_train)\n",
    "#Transform train\n",
    "X_train_scaled = scaler.transform(X_train)\n",
    "#Transform test \n",
    "X_test_scaled = scaler.transform(X_test)\n",
    "\n",
    "#Logistic Regression with personality type features as categorical \n",
    "logreg2 = LogisticRegression(C=1e9)\n",
    "logreg2.fit(X_train_scaled, y_train)\n",
    "y_pred = logreg2.predict(X_test_scaled)"
   ]
  },
  {
   "cell_type": "code",
   "execution_count": 37,
   "metadata": {},
   "outputs": [
    {
     "name": "stdout",
     "output_type": "stream",
     "text": [
      "Logistic Regression Test Accuracy Weed All Features: 0.853356890459\n",
      "[[227  41]\n",
      " [ 42 256]]\n",
      "             precision    recall  f1-score   support\n",
      "\n",
      "          0       0.84      0.85      0.85       268\n",
      "          1       0.86      0.86      0.86       298\n",
      "\n",
      "avg / total       0.85      0.85      0.85       566\n",
      "\n"
     ]
    }
   ],
   "source": [
    "print(\"Logistic Regression Test Accuracy Weed All Features:\", metrics.accuracy_score(y_test, y_pred))\n",
    "print(metrics.confusion_matrix(y_test, y_pred))\n",
    "print(metrics.classification_report(y_test, y_pred))"
   ]
  },
  {
   "cell_type": "code",
   "execution_count": 38,
   "metadata": {
    "scrolled": true
   },
   "outputs": [
    {
     "data": {
      "text/plain": [
       "[('Age', -0.45094385964019884),\n",
       " ('Gender', -0.22518795304072117),\n",
       " ('Education', -0.21568676494608888),\n",
       " ('Nscore', -0.19919222078447527),\n",
       " ('Escore', -0.18411147373304215),\n",
       " ('Oscore', 0.61118622475121709),\n",
       " ('Ascore', 0.10045939987139463),\n",
       " ('Cscore', -0.2841099725769744),\n",
       " ('Impulsive', -0.067446274574294626),\n",
       " ('SS', 0.49253986268292227),\n",
       " ('Alc', 0.056585979146134814),\n",
       " ('Amphet', 0.31033613768974394),\n",
       " ('Benzos', 0.15480841609605928),\n",
       " ('Caffeine', -0.085858484329308898),\n",
       " ('Chocolate', 0.063545104981330619),\n",
       " ('Coke', 0.19298098688631674),\n",
       " ('Crack', -0.047739682379491923),\n",
       " ('Ecstasy', 0.52367503795011605),\n",
       " ('Heroin', -0.15800501675005443),\n",
       " ('Ket', -0.099221225522291845),\n",
       " ('LSD', 0.21078133540338492),\n",
       " ('Meth', -0.051580281863998136),\n",
       " ('Shrooms', 0.53222624945017982),\n",
       " ('Nicotine', 0.75054096576534701),\n",
       " ('USA', 0.33698400935105083),\n",
       " ('NZ', 0.036202281978772184),\n",
       " ('Other', 0.0067701425423209519),\n",
       " ('Australia', 0.0059290041645725612),\n",
       " ('Ireland', 0.012558417229934567),\n",
       " ('Canada', 0.046652031460266731),\n",
       " ('UK', -0.33952761384810531),\n",
       " ('Black', 0.0016577828213387854),\n",
       " ('Asian', -0.3829451302437249),\n",
       " ('White', 0.076159912532056312),\n",
       " ('Mixed_WB', -0.087788111476247016),\n",
       " ('Other', 0.072428309995762441),\n",
       " ('Mixed_WA', 0.052768259331917561),\n",
       " ('Mixed_BA', 0.25119425505201559)]"
      ]
     },
     "execution_count": 38,
     "metadata": {},
     "output_type": "execute_result"
    }
   ],
   "source": [
    "list(zip(X_test.columns, logreg2.coef_[0]))"
   ]
  },
  {
   "cell_type": "code",
   "execution_count": 39,
   "metadata": {
    "collapsed": true
   },
   "outputs": [],
   "source": [
    "cross_val_scores = cross_val_score(logreg2, X_test, y_test, cv=10)"
   ]
  },
  {
   "cell_type": "code",
   "execution_count": 40,
   "metadata": {},
   "outputs": [
    {
     "data": {
      "text/plain": [
       "0.82491228070175426"
      ]
     },
     "execution_count": 40,
     "metadata": {},
     "output_type": "execute_result"
    }
   ],
   "source": [
    "np.mean(cross_val_scores)"
   ]
  },
  {
   "cell_type": "code",
   "execution_count": 41,
   "metadata": {},
   "outputs": [
    {
     "data": {
      "text/plain": [
       "Index(['Age', 'Gender', 'Education', 'Nscore', 'Escore', 'Oscore', 'Ascore',\n",
       "       'Cscore', 'Impulsive', 'SS', 'Alc', 'Amphet', 'Benzos', 'Caffeine',\n",
       "       'Weed', 'Chocolate', 'Coke', 'Crack', 'Ecstasy', 'Heroin', 'Ket', 'LSD',\n",
       "       'Meth', 'Shrooms', 'Nicotine', 'USA', 'NZ', 'Other', 'Australia',\n",
       "       'Ireland', 'Canada', 'UK', 'Black', 'Asian', 'White', 'Mixed_WB',\n",
       "       'Other', 'Mixed_WA', 'Mixed_BA'],\n",
       "      dtype='object')"
      ]
     },
     "execution_count": 41,
     "metadata": {},
     "output_type": "execute_result"
    }
   ],
   "source": [
    "drug_df_copy.columns"
   ]
  },
  {
   "cell_type": "code",
   "execution_count": 483,
   "metadata": {
    "scrolled": false
   },
   "outputs": [
    {
     "data": {
      "image/png": "[encoded data removed]",
      "text/plain": [
       "<matplotlib.figure.Figure at 0x1a55a05b38>"
      ]
     },
     "metadata": {},
     "output_type": "display_data"
    }
   ],
   "source": [
    "#Pairplot - Age\n",
    "sns.pairplot(drug_df_copy, x_vars=(\"Age\"), \n",
    "             y_vars=(\"Nscore\",'Escore','Oscore','Ascore', 'Cscore', 'Impulsive', 'SS'),\n",
    "             hue=\"Weed\", palette='coolwarm', size=5);"
   ]
  },
  {
   "cell_type": "markdown",
   "metadata": {},
   "source": [
    "### Decision Trees, Random Forests"
   ]
  },
  {
   "cell_type": "code",
   "execution_count": 42,
   "metadata": {},
   "outputs": [
    {
     "data": {
      "text/plain": [
       "DecisionTreeClassifier(class_weight=None, criterion='gini', max_depth=3,\n",
       "            max_features=None, max_leaf_nodes=None,\n",
       "            min_impurity_decrease=0.0, min_impurity_split=None,\n",
       "            min_samples_leaf=1, min_samples_split=2,\n",
       "            min_weight_fraction_leaf=0.0, presort=False, random_state=1234,\n",
       "            splitter='best')"
      ]
     },
     "execution_count": 42,
     "metadata": {},
     "output_type": "execute_result"
    }
   ],
   "source": [
    "#Decision Tree Classifier \n",
    "tree1 = DecisionTreeClassifier(max_depth=3, random_state=1234)\n",
    "tree1.fit(X_train, y_train)"
   ]
  },
  {
   "cell_type": "code",
   "execution_count": 43,
   "metadata": {},
   "outputs": [
    {
     "data": {
      "image/png": "[encoded data removed]",
      "text/plain": [
       "<IPython.core.display.Image object>"
      ]
     },
     "execution_count": 43,
     "metadata": {},
     "output_type": "execute_result"
    }
   ],
   "source": [
    "dot_data = StringIO()  \n",
    "export_graphviz(tree1, out_file=dot_data,  \n",
    "                    feature_names=X_train.columns.tolist(),  \n",
    "                    filled=True, rounded=True,  \n",
    "                    special_characters=True)  \n",
    "occ_graph = pydotplus.graph_from_dot_data(dot_data.getvalue())  \n",
    "Image(occ_graph.create_png())"
   ]
  },
  {
   "cell_type": "code",
   "execution_count": 44,
   "metadata": {},
   "outputs": [
    {
     "name": "stdout",
     "output_type": "stream",
     "text": [
      "Decision Tree Test Accuracy Score: 0.819787985866\n"
     ]
    }
   ],
   "source": [
    "y_pred_tree = tree1.predict(X_test)\n",
    "print(\"Decision Tree Test Accuracy Score:\", accuracy_score(y_test, y_pred_tree))"
   ]
  },
  {
   "cell_type": "code",
   "execution_count": 45,
   "metadata": {
    "scrolled": true
   },
   "outputs": [
    {
     "data": {
      "text/html": [
       "<div>\n",
       "<style>\n",
       "    .dataframe thead tr:only-child th {\n",
       "        text-align: right;\n",
       "    }\n",
       "\n",
       "    .dataframe thead th {\n",
       "        text-align: left;\n",
       "    }\n",
       "\n",
       "    .dataframe tbody tr th {\n",
       "        vertical-align: top;\n",
       "    }\n",
       "</style>\n",
       "<table border=\"1\" class=\"dataframe\">\n",
       "  <thead>\n",
       "    <tr style=\"text-align: right;\">\n",
       "      <th></th>\n",
       "      <th>feature</th>\n",
       "      <th>importance</th>\n",
       "    </tr>\n",
       "  </thead>\n",
       "  <tbody>\n",
       "    <tr>\n",
       "      <th>30</th>\n",
       "      <td>UK</td>\n",
       "      <td>0.573316</td>\n",
       "    </tr>\n",
       "    <tr>\n",
       "      <th>23</th>\n",
       "      <td>Nicotine</td>\n",
       "      <td>0.214755</td>\n",
       "    </tr>\n",
       "    <tr>\n",
       "      <th>17</th>\n",
       "      <td>Ecstasy</td>\n",
       "      <td>0.078926</td>\n",
       "    </tr>\n",
       "    <tr>\n",
       "      <th>0</th>\n",
       "      <td>Age</td>\n",
       "      <td>0.056543</td>\n",
       "    </tr>\n",
       "    <tr>\n",
       "      <th>22</th>\n",
       "      <td>Shrooms</td>\n",
       "      <td>0.054184</td>\n",
       "    </tr>\n",
       "    <tr>\n",
       "      <th>9</th>\n",
       "      <td>SS</td>\n",
       "      <td>0.022276</td>\n",
       "    </tr>\n",
       "    <tr>\n",
       "      <th>28</th>\n",
       "      <td>Ireland</td>\n",
       "      <td>0.000000</td>\n",
       "    </tr>\n",
       "    <tr>\n",
       "      <th>24</th>\n",
       "      <td>USA</td>\n",
       "      <td>0.000000</td>\n",
       "    </tr>\n",
       "    <tr>\n",
       "      <th>25</th>\n",
       "      <td>NZ</td>\n",
       "      <td>0.000000</td>\n",
       "    </tr>\n",
       "    <tr>\n",
       "      <th>26</th>\n",
       "      <td>Other</td>\n",
       "      <td>0.000000</td>\n",
       "    </tr>\n",
       "    <tr>\n",
       "      <th>27</th>\n",
       "      <td>Australia</td>\n",
       "      <td>0.000000</td>\n",
       "    </tr>\n",
       "    <tr>\n",
       "      <th>29</th>\n",
       "      <td>Canada</td>\n",
       "      <td>0.000000</td>\n",
       "    </tr>\n",
       "    <tr>\n",
       "      <th>20</th>\n",
       "      <td>LSD</td>\n",
       "      <td>0.000000</td>\n",
       "    </tr>\n",
       "    <tr>\n",
       "      <th>31</th>\n",
       "      <td>Black</td>\n",
       "      <td>0.000000</td>\n",
       "    </tr>\n",
       "    <tr>\n",
       "      <th>32</th>\n",
       "      <td>Asian</td>\n",
       "      <td>0.000000</td>\n",
       "    </tr>\n",
       "    <tr>\n",
       "      <th>33</th>\n",
       "      <td>White</td>\n",
       "      <td>0.000000</td>\n",
       "    </tr>\n",
       "    <tr>\n",
       "      <th>34</th>\n",
       "      <td>Mixed_WB</td>\n",
       "      <td>0.000000</td>\n",
       "    </tr>\n",
       "    <tr>\n",
       "      <th>35</th>\n",
       "      <td>Other</td>\n",
       "      <td>0.000000</td>\n",
       "    </tr>\n",
       "    <tr>\n",
       "      <th>36</th>\n",
       "      <td>Mixed_WA</td>\n",
       "      <td>0.000000</td>\n",
       "    </tr>\n",
       "    <tr>\n",
       "      <th>21</th>\n",
       "      <td>Meth</td>\n",
       "      <td>0.000000</td>\n",
       "    </tr>\n",
       "    <tr>\n",
       "      <th>19</th>\n",
       "      <td>Ket</td>\n",
       "      <td>0.000000</td>\n",
       "    </tr>\n",
       "    <tr>\n",
       "      <th>1</th>\n",
       "      <td>Gender</td>\n",
       "      <td>0.000000</td>\n",
       "    </tr>\n",
       "    <tr>\n",
       "      <th>8</th>\n",
       "      <td>Impulsive</td>\n",
       "      <td>0.000000</td>\n",
       "    </tr>\n",
       "    <tr>\n",
       "      <th>2</th>\n",
       "      <td>Education</td>\n",
       "      <td>0.000000</td>\n",
       "    </tr>\n",
       "    <tr>\n",
       "      <th>3</th>\n",
       "      <td>Nscore</td>\n",
       "      <td>0.000000</td>\n",
       "    </tr>\n",
       "    <tr>\n",
       "      <th>4</th>\n",
       "      <td>Escore</td>\n",
       "      <td>0.000000</td>\n",
       "    </tr>\n",
       "    <tr>\n",
       "      <th>5</th>\n",
       "      <td>Oscore</td>\n",
       "      <td>0.000000</td>\n",
       "    </tr>\n",
       "    <tr>\n",
       "      <th>6</th>\n",
       "      <td>Ascore</td>\n",
       "      <td>0.000000</td>\n",
       "    </tr>\n",
       "    <tr>\n",
       "      <th>7</th>\n",
       "      <td>Cscore</td>\n",
       "      <td>0.000000</td>\n",
       "    </tr>\n",
       "    <tr>\n",
       "      <th>10</th>\n",
       "      <td>Alc</td>\n",
       "      <td>0.000000</td>\n",
       "    </tr>\n",
       "    <tr>\n",
       "      <th>18</th>\n",
       "      <td>Heroin</td>\n",
       "      <td>0.000000</td>\n",
       "    </tr>\n",
       "    <tr>\n",
       "      <th>11</th>\n",
       "      <td>Amphet</td>\n",
       "      <td>0.000000</td>\n",
       "    </tr>\n",
       "    <tr>\n",
       "      <th>12</th>\n",
       "      <td>Benzos</td>\n",
       "      <td>0.000000</td>\n",
       "    </tr>\n",
       "    <tr>\n",
       "      <th>13</th>\n",
       "      <td>Caffeine</td>\n",
       "      <td>0.000000</td>\n",
       "    </tr>\n",
       "    <tr>\n",
       "      <th>14</th>\n",
       "      <td>Chocolate</td>\n",
       "      <td>0.000000</td>\n",
       "    </tr>\n",
       "    <tr>\n",
       "      <th>15</th>\n",
       "      <td>Coke</td>\n",
       "      <td>0.000000</td>\n",
       "    </tr>\n",
       "    <tr>\n",
       "      <th>16</th>\n",
       "      <td>Crack</td>\n",
       "      <td>0.000000</td>\n",
       "    </tr>\n",
       "    <tr>\n",
       "      <th>37</th>\n",
       "      <td>Mixed_BA</td>\n",
       "      <td>0.000000</td>\n",
       "    </tr>\n",
       "  </tbody>\n",
       "</table>\n",
       "</div>"
      ],
      "text/plain": [
       "      feature  importance\n",
       "30         UK    0.573316\n",
       "23   Nicotine    0.214755\n",
       "17    Ecstasy    0.078926\n",
       "0         Age    0.056543\n",
       "22    Shrooms    0.054184\n",
       "9          SS    0.022276\n",
       "28    Ireland    0.000000\n",
       "24        USA    0.000000\n",
       "25         NZ    0.000000\n",
       "26      Other    0.000000\n",
       "27  Australia    0.000000\n",
       "29     Canada    0.000000\n",
       "20        LSD    0.000000\n",
       "31      Black    0.000000\n",
       "32      Asian    0.000000\n",
       "33      White    0.000000\n",
       "34   Mixed_WB    0.000000\n",
       "35      Other    0.000000\n",
       "36   Mixed_WA    0.000000\n",
       "21       Meth    0.000000\n",
       "19        Ket    0.000000\n",
       "1      Gender    0.000000\n",
       "8   Impulsive    0.000000\n",
       "2   Education    0.000000\n",
       "3      Nscore    0.000000\n",
       "4      Escore    0.000000\n",
       "5      Oscore    0.000000\n",
       "6      Ascore    0.000000\n",
       "7      Cscore    0.000000\n",
       "10        Alc    0.000000\n",
       "18     Heroin    0.000000\n",
       "11     Amphet    0.000000\n",
       "12     Benzos    0.000000\n",
       "13   Caffeine    0.000000\n",
       "14  Chocolate    0.000000\n",
       "15       Coke    0.000000\n",
       "16      Crack    0.000000\n",
       "37   Mixed_BA    0.000000"
      ]
     },
     "execution_count": 45,
     "metadata": {},
     "output_type": "execute_result"
    }
   ],
   "source": [
    "pd.DataFrame({'feature':X_test.columns, 'importance':tree1.feature_importances_}).sort_values(by='importance', ascending=False)"
   ]
  },
  {
   "cell_type": "markdown",
   "metadata": {},
   "source": [
    "## Random Forest \n",
    "\n",
    "Practice"
   ]
  },
  {
   "cell_type": "code",
   "execution_count": 47,
   "metadata": {},
   "outputs": [],
   "source": [
    "# Random Forest - using all features\n",
    "# rf = RandomForestClassifier(n_estimators=100, bootstrap=True, oob_score=True, random_state=1234)\n",
    "# rf.fit(X_train_all, y_train_all)\n",
    "# y_test_rf_pred = rf.predict(X_test_all)\n",
    "# #y_test_rf_pred\n",
    "# print(\"Random Forest Test Accuracy Score:\", accuracy_score(y_test_all, y_test_rf_pred))"
   ]
  },
  {
   "cell_type": "code",
   "execution_count": 48,
   "metadata": {
    "scrolled": true
   },
   "outputs": [],
   "source": [
    "# print(\"Feature Importance for Weed - Only Random Forest:\")\n",
    "# pd.DataFrame({'Feature':X_test_all.columns,\n",
    "#               'Importance':rf.feature_importances_}).sort_values(by='Importance', ascending=False)"
   ]
  },
  {
   "cell_type": "code",
   "execution_count": 50,
   "metadata": {},
   "outputs": [],
   "source": [
    "#Confusion Matrix\n",
    "#Classification Report\n",
    "#print(metrics.confusion_matrix(y_test_all, y_test_rf_pred))\n",
    "#print(metrics.classification_report(y_test_all, y_test_rf_pred))"
   ]
  },
  {
   "cell_type": "markdown",
   "metadata": {},
   "source": [
    "# Optimizing the Marijuana Model\n",
    "\n",
    "Weed is a pretty balanced class. We can observe ROC/AUC curves for various algorithms.    \n",
    "Use all features for marijuana.   \n",
    "Logistic Regression  \n",
    "Random Forest  \n",
    "SVM  \n",
    "Naive Bayes \n"
   ]
  },
  {
   "cell_type": "markdown",
   "metadata": {},
   "source": [
    "### Logistic Regression Weed - Personality Traits Only "
   ]
  },
  {
   "cell_type": "code",
   "execution_count": 51,
   "metadata": {
    "collapsed": true
   },
   "outputs": [],
   "source": [
    "#Logistic Regression with personality type features as numeric (not categorical)\n",
    "X = drug_df.iloc[:, [3, 4, 5, 6, 7, 8, 9]]\n",
    "y = drug_df.loc[:, 'Weed']\n",
    "X_train_weed, X_test_weed, y_train_weed, y_test_weed = train_test_split(X, y, test_size = 0.3, random_state=1234)\n",
    "logreg_weed_personality_only = LogisticRegression(C=1e9)\n",
    "logreg_weed_personality_only.fit(X_train_weed, y_train_weed)\n",
    "y_pred_weed = logreg_weed_personality_only.predict(X_test_weed)"
   ]
  },
  {
   "cell_type": "code",
   "execution_count": 52,
   "metadata": {
    "scrolled": true
   },
   "outputs": [
    {
     "name": "stdout",
     "output_type": "stream",
     "text": [
      "0.726148409894\n",
      "[[193  93]\n",
      " [ 62 218]]\n"
     ]
    }
   ],
   "source": [
    "print(metrics.accuracy_score(y_test_weed, y_pred_weed))\n",
    "print(metrics.confusion_matrix(y_test_weed, y_pred_weed))\n",
    "lr_predicted_probs_weed = logreg_weed_personality_only.predict_proba(X_test_weed)\n",
    "#list(zip(X_train_weed.columns, logreg_weed_personality_only.coef_[0]))"
   ]
  },
  {
   "cell_type": "code",
   "execution_count": 64,
   "metadata": {},
   "outputs": [
    {
     "name": "stdout",
     "output_type": "stream",
     "text": [
      "Random Forest Weed Test Accuracy Score: 0.743816254417\n",
      "Feature Importance for Weed - Only Random Forest:\n",
      "     Feature  Importance\n",
      "2     Oscore    0.191489\n",
      "6         SS    0.184407\n",
      "4     Cscore    0.168101\n",
      "0     Nscore    0.128747\n",
      "1     Escore    0.122178\n",
      "3     Ascore    0.117532\n",
      "5  Impulsive    0.087546\n",
      "[[196  81]\n",
      " [ 64 225]]\n",
      "             precision    recall  f1-score   support\n",
      "\n",
      "          0       0.75      0.71      0.73       277\n",
      "          1       0.74      0.78      0.76       289\n",
      "\n",
      "avg / total       0.74      0.74      0.74       566\n",
      "\n",
      "Index(['Age', 'Gender', 'Education', 'Nscore', 'Escore', 'Oscore', 'Ascore',\n",
      "       'Cscore', 'Impulsive', 'SS', 'Alc', 'Amphet', 'Benzos', 'Caffeine',\n",
      "       'Chocolate', 'Coke', 'Crack', 'Ecstasy', 'Heroin', 'Ket', 'LSD', 'Meth',\n",
      "       'Shrooms', 'Nicotine', 'USA', 'NZ', 'Other', 'Australia', 'Ireland',\n",
      "       'Canada', 'UK', 'Black', 'Asian', 'White', 'Mixed_WB', 'Other',\n",
      "       'Mixed_WA', 'Mixed_BA'],\n",
      "      dtype='object')\n",
      "0: Non User\n",
      "1: User\n",
      "(0, 0.42199999999999999)\n",
      "(1, 0.57799999999999996)\n"
     ]
    }
   ],
   "source": [
    "##Trying my hand at some predictions using ONLY personality trait features## \n",
    "## RANDOM FOREST ##\n",
    "X = drug_df.iloc[:, [3, 4, 5, 6, 7, 8, 9]]\n",
    "y_weed = drug_df.loc[:, 'Weed']\n",
    "X_train_weed, X_test_weed, y_train_weed, y_test_weed = train_test_split(X, y_weed,\n",
    "                                                                        test_size = 0.3)\n",
    "\n",
    "#Standardize the personality trait features before running random forests\n",
    "scaler = StandardScaler()\n",
    "#Scale X dataset for random forests\n",
    "scaler.fit(X_train_weed)\n",
    "#Transform train\n",
    "X_train_scaled_weed = scaler.transform(X_train_weed)\n",
    "#Transform test \n",
    "X_test_scaled_weed = scaler.transform(X_test_weed)\n",
    "\n",
    "#Model\n",
    "rf_weed = RandomForestClassifier(n_estimators=500, bootstrap=True)\n",
    "rf_weed.fit(X_train_scaled_weed, y_train_weed)\n",
    "y_weed_pred = rf_weed.predict(X_test_scaled_weed)\n",
    "print(\"Random Forest Weed Test Accuracy Score:\", accuracy_score(y_test_weed, y_weed_pred))\n",
    "print(\"Feature Importance for Weed - Only Random Forest:\")\n",
    "print(pd.DataFrame({'Feature':X_test_weed.columns,\n",
    "              'Importance':rf_weed.feature_importances_}).sort_values(by='Importance', ascending=False))\n",
    "#Confusion Matrix for the Personality traits only weed model \n",
    "print(metrics.confusion_matrix(y_test_weed, y_weed_pred))\n",
    "print(metrics.classification_report(y_test_weed, y_weed_pred))\n",
    "\n",
    "#Predict Probabilities \n",
    "print(X_test.columns)\n",
    "weed_probs_personality_only = rf_weed.predict_proba([[-2, -2, 0, 1, 1, 1, 0]])[0]\n",
    "print(\"0: Non User\")\n",
    "print(\"1: User\")\n",
    "for i in list(zip(rf_weed.classes_, weed_probs_personality_only)):\n",
    "    print(i)\n",
    "\n",
    "rf_predicted_probs_weed = rf_weed.predict_proba(X_test_weed)"
   ]
  },
  {
   "cell_type": "code",
   "execution_count": 65,
   "metadata": {},
   "outputs": [
    {
     "data": {
      "text/plain": [
       "0.77854671280276821"
      ]
     },
     "execution_count": 65,
     "metadata": {},
     "output_type": "execute_result"
    }
   ],
   "source": [
    "metrics.recall_score(y_test_weed, y_weed_pred)"
   ]
  },
  {
   "cell_type": "code",
   "execution_count": 66,
   "metadata": {},
   "outputs": [
    {
     "data": {
      "image/png": "[encoded data removed]",
      "text/plain": [
       "<matplotlib.figure.Figure at 0x1a19f9ce10>"
      ]
     },
     "metadata": {},
     "output_type": "display_data"
    }
   ],
   "source": [
    "rf_weed_feature_importance = pd.DataFrame({'Feature':X_test_weed.columns,\n",
    "              'Importance':rf_weed.feature_importances_}).sort_values(by='Importance', ascending=False)\n",
    "#Plot\n",
    "rf_weed_feature_importance.plot(\"Feature\", \"Importance\", kind='bar',\n",
    "                                figsize=(8, 6), colormap='summer')\n",
    "plt.title(\"Marijuana Random Forest - Feature Importance\", fontsize=20)\n",
    "plt.ylabel(\"Importance\", fontsize=20)\n",
    "plt.xlabel(\"Personality Trait\", fontsize=20)\n",
    "plt.xticks(fontsize=11);\n",
    "plt.savefig(\"rf_weed.pdf\");"
   ]
  },
  {
   "cell_type": "code",
   "execution_count": 67,
   "metadata": {},
   "outputs": [
    {
     "data": {
      "text/plain": [
       "Text(0.5,1,'Random Forest Confusion Matrix - Marijuana')"
      ]
     },
     "execution_count": 67,
     "metadata": {},
     "output_type": "execute_result"
    },
    {
     "data": {
      "image/png": "[encoded data removed]",
      "text/plain": [
       "<matplotlib.figure.Figure at 0x1a1a49e828>"
      ]
     },
     "metadata": {},
     "output_type": "display_data"
    }
   ],
   "source": [
    "fig, ax = plt.subplots(figsize=(8, 6))\n",
    "sns.set(font_scale=2)\n",
    "sns.heatmap(metrics.confusion_matrix(y_test_weed, y_weed_pred), annot=True,\n",
    "            linewidths=0.5, robust=True, cmap='summer_r', fmt='d', annot_kws={\"size\": 16})\n",
    "plt.title(\"Random Forest Confusion Matrix - Marijuana\", fontsize=18)\n",
    "#plt.savefig(\"Random_Forest_Confusion_Matrix.pdf\");"
   ]
  },
  {
   "cell_type": "code",
   "execution_count": 68,
   "metadata": {},
   "outputs": [
    {
     "name": "stdout",
     "output_type": "stream",
     "text": [
      "Index(['Age', 'Gender', 'Education', 'Nscore', 'Escore', 'Oscore', 'Ascore',\n",
      "       'Cscore', 'Impulsive', 'SS', 'Alc', 'Amphet', 'Benzos', 'Caffeine',\n",
      "       'Chocolate', 'Coke', 'Crack', 'Ecstasy', 'Heroin', 'Ket', 'LSD', 'Meth',\n",
      "       'Shrooms', 'Nicotine', 'USA', 'NZ', 'Other', 'Australia', 'Ireland',\n",
      "       'Canada', 'UK', 'Black', 'Asian', 'White', 'Mixed_WB', 'Other',\n",
      "       'Mixed_WA', 'Mixed_BA'],\n",
      "      dtype='object')\n",
      "0: Non User\n",
      "1: User\n",
      "(0, 0.51800000000000002)\n",
      "(1, 0.48199999999999998)\n"
     ]
    }
   ],
   "source": [
    "#Predict Probabilities \n",
    "print(X_test.columns)\n",
    "weed_probs_personality_only = rf_weed.predict_proba([[-2, -1, 0, 1, 1, 1, 0]])[0]\n",
    "print(\"0: Non User\")\n",
    "print(\"1: User\")\n",
    "for i in list(zip(rf_weed.classes_, weed_probs_personality_only)):\n",
    "    print(i)"
   ]
  },
  {
   "cell_type": "code",
   "execution_count": 69,
   "metadata": {},
   "outputs": [],
   "source": [
    "# rf_weed.feature_names = ['Neuroticism: Neurotic individuals are likely to experience feelings \\\n",
    "# of anxiety, worry, depression, loneliness and guilt.',\n",
    "#                          'Extraversion: Extroverted individuals tend to be more outgoing and social. They recharge around other people.', \n",
    "#                          'Openness: Imaginative, curious and open-minded people. Attentiveness to inner feelings and focused on trying new things.',\n",
    "#                          'Agreeableness: Agreeable individuals tend to be more empathetic, caring and cooperative towards other people.', \n",
    "#                          'Conscientiousness: Goal-oriented, diligent individuals that enjoy having a set schedule and structure. Strong attention to detail.',\n",
    "#                          'Impulsiveness: Impulsive individuals tend to display behavior characterized by having little or no forethought of the consequences of their actions.',\n",
    "#                          'Sensation-Seeking: Excitement-seeking individuals that are easily bored without high levels of stimulation.']\n",
    "# rf_weed.feature_names\n",
    "# targets = [\"Non-User\", \"User\"]\n",
    "# rf_weed.target_names = targets\n",
    "# rf_weed.target_names"
   ]
  },
  {
   "cell_type": "code",
   "execution_count": 1962,
   "metadata": {
    "collapsed": true
   },
   "outputs": [],
   "source": [
    "## For Flask App - Practice ##\n",
    "# personality_names = ['Neuroticism', 'Extraversion', 'Openness', \n",
    "#                      'Agreeableness', 'Conscientiousness', 'Impulsiveness', 'Sensation-Seeking']\n",
    "# test_vals = [0, 3, 1, 5, 3, 2, 4]\n",
    "# pd.DataFrame({\"Personality Traits\": personality_names, \"Scores\": test_vals})"
   ]
  },
  {
   "cell_type": "code",
   "execution_count": 1515,
   "metadata": {
    "collapsed": true
   },
   "outputs": [],
   "source": [
    "#Pickling\n",
    "#with open(\"rf_weed.pkl\", \"wb\") as f:\n",
    "#    pickle.dump(rf_weed, f)"
   ]
  },
  {
   "cell_type": "code",
   "execution_count": 1516,
   "metadata": {
    "collapsed": true
   },
   "outputs": [],
   "source": [
    "#Testing opening pickled model \n",
    "#with open(\"rf_weed.pkl\", \"rb\") as f:\n",
    "#    rf_weed_pickle = pickle.load(f)"
   ]
  },
  {
   "cell_type": "code",
   "execution_count": 1460,
   "metadata": {},
   "outputs": [
    {
     "data": {
      "text/plain": [
       "['Neuroticism:',\n",
       " 'Extraversion:',\n",
       " 'Openness:',\n",
       " 'Agreeableness:',\n",
       " 'Conscientiousness:',\n",
       " 'Impulsiveness:',\n",
       " 'Sensation-Seeking:']"
      ]
     },
     "execution_count": 1460,
     "metadata": {},
     "output_type": "execute_result"
    }
   ],
   "source": [
    "rf_weed_pickle.feature_names"
   ]
  },
  {
   "cell_type": "code",
   "execution_count": 70,
   "metadata": {},
   "outputs": [
    {
     "name": "stdout",
     "output_type": "stream",
     "text": [
      "0.772084805654\n",
      "[[203  74]\n",
      " [ 55 234]]\n",
      "             precision    recall  f1-score   support\n",
      "\n",
      "          0       0.79      0.73      0.76       277\n",
      "          1       0.76      0.81      0.78       289\n",
      "\n",
      "avg / total       0.77      0.77      0.77       566\n",
      "\n",
      "Recall 0.809688581315\n",
      "Precision 0.75974025974\n"
     ]
    }
   ],
   "source": [
    "#Linear Support Vector Machine\n",
    "lin_svm = svm.SVC(kernel='linear', probability=True)\n",
    "lin_svm.fit(X_train_scaled_weed, y_train_weed)\n",
    "print(lin_svm.score(X_test_scaled_weed, y_test_weed))\n",
    "lin_svm_pred_weed = lin_svm.predict(X_test_scaled_weed)\n",
    "\n",
    "lin_svm_predicted_probs_weed = lin_svm.predict_proba(X_test_scaled_weed)\n",
    "print(metrics.confusion_matrix(y_test_weed, lin_svm_pred_weed))\n",
    "print(metrics.classification_report(y_test_weed, lin_svm_pred_weed))\n",
    "print(\"Recall\", metrics.recall_score(y_test_weed, lin_svm_pred_weed))\n",
    "print(\"Precision\", metrics.precision_score(y_test_weed, lin_svm_pred_weed))\n",
    "#print(metrics.precision_recall_curve(y_test_weed, lin_svm_pred_weed))"
   ]
  },
  {
   "cell_type": "code",
   "execution_count": 71,
   "metadata": {},
   "outputs": [
    {
     "data": {
      "image/png": "[encoded data removed]",
      "text/plain": [
       "<matplotlib.figure.Figure at 0x1a1a7725c0>"
      ]
     },
     "metadata": {},
     "output_type": "display_data"
    }
   ],
   "source": [
    "fig, ax = plt.subplots(figsize=(10, 8))\n",
    "list(zip(X_test_weed.columns, lin_svm.coef_[0]))\n",
    "plt.scatter(X_test_weed.columns, lin_svm.coef_[0], s=150, c='g', edgecolor='y')\n",
    "plt.xticks(fontsize=19)\n",
    "plt.yticks(fontsize=20)\n",
    "plt.xlabel(\"Personality Traits\", fontsize=20)\n",
    "plt.ylabel(\"Relative Importance\", fontsize=20)\n",
    "plt.title(\"What do my coefficients mean to my model? - Linear SVM\", fontsize=20);\n",
    "#plt.savefig(\"lin_svm_coef_.pdf\");"
   ]
  },
  {
   "cell_type": "code",
   "execution_count": 72,
   "metadata": {},
   "outputs": [
    {
     "data": {
      "image/png": "[encoded data removed]",
      "text/plain": [
       "<matplotlib.figure.Figure at 0x1a1a7805c0>"
      ]
     },
     "metadata": {},
     "output_type": "display_data"
    }
   ],
   "source": [
    "fig, ax = plt.subplots(figsize=(8, 6))\n",
    "sns.set(font_scale=2)\n",
    "sns.heatmap(metrics.confusion_matrix(y_test_weed, lin_svm_pred_weed), annot=True,\n",
    "            linewidths=0.5, robust=True, cmap=\"summer_r\", fmt='d', annot_kws={\"size\": 16})\n",
    "plt.title(\"Linear SVM Confusion Matrix - Marijuana\", fontsize=18);\n",
    "#plt.savefig(\"linsvm_confusion_matrix.pdf\");"
   ]
  },
  {
   "cell_type": "code",
   "execution_count": 73,
   "metadata": {},
   "outputs": [
    {
     "name": "stdout",
     "output_type": "stream",
     "text": [
      "0.754416961131\n",
      "[[194  83]\n",
      " [ 56 233]]\n",
      "             precision    recall  f1-score   support\n",
      "\n",
      "          0       0.78      0.70      0.74       277\n",
      "          1       0.74      0.81      0.77       289\n",
      "\n",
      "avg / total       0.76      0.75      0.75       566\n",
      "\n"
     ]
    }
   ],
   "source": [
    "#RBF Support Vector Machine\n",
    "rbf_svm = svm.SVC(kernel='rbf', probability=True)\n",
    "rbf_svm.fit(X_train_scaled_weed, y_train_weed)\n",
    "print(rbf_svm.score(X_test_scaled_weed, y_test_weed))\n",
    "rbf_svm_pred_weed = rbf_svm.predict(X_test_scaled_weed)\n",
    "\n",
    "rbf_svm_predicted_probs_weed = rbf_svm.predict_proba(X_test_scaled_weed)\n",
    "print(metrics.confusion_matrix(y_test_weed, rbf_svm_pred_weed))\n",
    "print(metrics.classification_report(y_test_weed, rbf_svm_pred_weed))\n"
   ]
  },
  {
   "cell_type": "code",
   "execution_count": 74,
   "metadata": {},
   "outputs": [
    {
     "name": "stdout",
     "output_type": "stream",
     "text": [
      "0.765017667845\n",
      "[[206  71]\n",
      " [ 62 227]]\n",
      "             precision    recall  f1-score   support\n",
      "\n",
      "          0       0.77      0.74      0.76       277\n",
      "          1       0.76      0.79      0.77       289\n",
      "\n",
      "avg / total       0.77      0.77      0.76       566\n",
      "\n"
     ]
    }
   ],
   "source": [
    "#Naive Bayes\n",
    "from sklearn import naive_bayes\n",
    "naive_gauss_weed = naive_bayes.GaussianNB()\n",
    "naive_gauss_weed.fit(X_train_scaled_weed, y_train_weed)\n",
    "print(naive_gauss_weed.score(X_test_scaled_weed, y_test_weed))\n",
    "naive_gauss_weed_pred = naive_gauss_weed.predict(X_test_scaled_weed)\n",
    "\n",
    "nb_predicted_probs_weed = naive_gauss_weed.predict_proba(X_test_scaled_weed)\n",
    "print(metrics.confusion_matrix(y_test_weed, naive_gauss_weed_pred))\n",
    "print(metrics.classification_report(y_test_weed, naive_gauss_weed_pred))"
   ]
  },
  {
   "cell_type": "code",
   "execution_count": 75,
   "metadata": {},
   "outputs": [
    {
     "data": {
      "image/png": "[encoded data removed]",
      "text/plain": [
       "<matplotlib.figure.Figure at 0x1a1a84a898>"
      ]
     },
     "metadata": {},
     "output_type": "display_data"
    }
   ],
   "source": [
    "## ROC/AUC EVALUATION ##\n",
    "#generate Logistic Regression model false positive and true positive rates\n",
    "fpr_lr, tpr_lr, thresholds_lr = metrics.roc_curve(y_test_weed, lr_predicted_probs_weed[:,1])\n",
    "\n",
    "#random forest\n",
    "fpr_rf, tpr_rf, thresholds_rf = metrics.roc_curve(y_test_weed, rf_predicted_probs_weed[:,1])\n",
    "\n",
    "#SVM - LIN\n",
    "fpr_svmlin, tpr_svmlin, thresholds_svmlin = metrics.roc_curve(y_test_weed, lin_svm_predicted_probs_weed[:,1])\n",
    "\n",
    "#SVM - RBF \n",
    "fpr_svmrbf, tpr_svmrbf, thresholds_svmrbf = metrics.roc_curve(y_test_weed, rbf_svm_predicted_probs_weed[:,1])\n",
    "\n",
    "#Naive Bayes\n",
    "fpr_nb, tpr_nb, thresholds_nb = metrics.roc_curve(y_test_weed, nb_predicted_probs_weed[:,1])\n",
    "\n",
    "\n",
    "# plot model ROC curves\n",
    "plt.figure(figsize=(10, 8))\n",
    "plot(fpr_lr, tpr_lr, label=\"LR\")\n",
    "plot(fpr_rf, tpr_rf, label=\"RF\")\n",
    "plot(fpr_svmlin, tpr_svmlin, label='lin SVM')\n",
    "plot(fpr_svmrbf, tpr_svmrbf, label='rbf SVM')\n",
    "plot(fpr_nb, tpr_nb, label='NB')\n",
    "title('ROC Curves - Marijuana')\n",
    "xlim([0, 1])\n",
    "ylim([0, 1.05])\n",
    "plt.legend(loc=\"lower right\")\n",
    "plt.xlabel('False Positive Rate (1 - Specificity)', fontsize=12)\n",
    "plt.ylabel('True Positive Rate (Recall)', fontsize=12);\n",
    "#plt.savefig('ROC_weed.pdf');"
   ]
  },
  {
   "cell_type": "code",
   "execution_count": 76,
   "metadata": {
    "scrolled": true
   },
   "outputs": [
    {
     "name": "stdout",
     "output_type": "stream",
     "text": [
      "Linear SVM is best.\n",
      "------------------------------\n",
      "Linear SVM AUC: 0.845240028481\n",
      "RBF SVM AUC: 0.837520142905\n",
      "NB AUC: 0.823841704871\n",
      "Random Forest AUC: 0.820650069329\n",
      "Logistic Regression AUC: 0.484703883677\n"
     ]
    }
   ],
   "source": [
    "print(\"Linear SVM is best.\")\n",
    "print(\"-\" * 30)\n",
    "print(\"Linear SVM AUC:\", metrics.roc_auc_score(y_test_weed, lin_svm_predicted_probs_weed[:,1]))\n",
    "print(\"RBF SVM AUC:\", metrics.roc_auc_score(y_test_weed, rbf_svm_predicted_probs_weed[:,1]))\n",
    "print(\"NB AUC:\", metrics.roc_auc_score(y_test_weed, nb_predicted_probs_weed[:,1]))\n",
    "print(\"Random Forest AUC:\", metrics.roc_auc_score(y_test_weed, rf_predicted_probs_weed[:,1]))\n",
    "print(\"Logistic Regression AUC:\", metrics.roc_auc_score(y_test_weed, lr_predicted_probs_weed[:,1]))"
   ]
  },
  {
   "cell_type": "code",
   "execution_count": 78,
   "metadata": {
    "scrolled": true
   },
   "outputs": [],
   "source": [
    "# #Lets look at Precision/Recall curve for Linear SVM \n",
    "# sns.mpl.pyplot.plot(fpr_svmlin, tpr_svmlin,label=\"lin_svm\")\n",
    "# sns.mpl.pyplot.plot(fpr_svmlin,thresholds_svmlin, label=\"lin_svm_thresh\")\n",
    "# sns.mpl.pyplot.xlim([0, 1])\n",
    "# sns.mpl.pyplot.ylim([0, 1.05])\n",
    "# sns.mpl.pyplot.legend(loc=\"center\")\n",
    "# sns.mpl.pyplot.xlabel('False Positive Rate (1 - Specificity)')\n",
    "# sns.mpl.pyplot.ylabel('True Positive Rate (Recall) or Class 1 Threshold Probability');"
   ]
  },
  {
   "cell_type": "code",
   "execution_count": 1578,
   "metadata": {
    "collapsed": true
   },
   "outputs": [],
   "source": [
    "#Grid Search \n",
    "from sklearn.model_selection import GridSearchCV"
   ]
  },
  {
   "cell_type": "code",
   "execution_count": 1967,
   "metadata": {
    "collapsed": true,
    "scrolled": true
   },
   "outputs": [],
   "source": [
    "# param_grid = {\n",
    "#     \"C\": np.logspace(5,-5,11)\n",
    "# }\n",
    "\n",
    "# lin_grid = GridSearchCV(lin_svm, param_grid, verbose=2, n_jobs=-1)\n",
    "# lin_grid.fit(X_test_scaled_weed, y_test_weed)"
   ]
  },
  {
   "cell_type": "code",
   "execution_count": 1581,
   "metadata": {},
   "outputs": [
    {
     "name": "stdout",
     "output_type": "stream",
     "text": [
      "\n",
      "best params: {'C': 100000.0}\n",
      "best score: 0.7173144876325088\n",
      "\n"
     ]
    }
   ],
   "source": [
    "print(f\"\"\"\n",
    "best params: {lin_grid.best_params_}\n",
    "best score: {lin_grid.best_score_}\n",
    "\"\"\")"
   ]
  },
  {
   "cell_type": "code",
   "execution_count": 1173,
   "metadata": {},
   "outputs": [
    {
     "data": {
      "text/html": [
       "<div>\n",
       "<style>\n",
       "    .dataframe thead tr:only-child th {\n",
       "        text-align: right;\n",
       "    }\n",
       "\n",
       "    .dataframe thead th {\n",
       "        text-align: left;\n",
       "    }\n",
       "\n",
       "    .dataframe tbody tr th {\n",
       "        vertical-align: top;\n",
       "    }\n",
       "</style>\n",
       "<table border=\"1\" class=\"dataframe\">\n",
       "  <thead>\n",
       "    <tr style=\"text-align: right;\">\n",
       "      <th></th>\n",
       "      <th>class_0</th>\n",
       "      <th>class_1</th>\n",
       "      <th>predicted</th>\n",
       "      <th>actual</th>\n",
       "      <th>predicted_06</th>\n",
       "      <th>predicted_02</th>\n",
       "    </tr>\n",
       "  </thead>\n",
       "  <tbody>\n",
       "    <tr>\n",
       "      <th>0</th>\n",
       "      <td>0.725158</td>\n",
       "      <td>0.274842</td>\n",
       "      <td>0.0</td>\n",
       "      <td>1.0</td>\n",
       "      <td>0.0</td>\n",
       "      <td>1.0</td>\n",
       "    </tr>\n",
       "    <tr>\n",
       "      <th>1</th>\n",
       "      <td>0.250849</td>\n",
       "      <td>0.749151</td>\n",
       "      <td>1.0</td>\n",
       "      <td>1.0</td>\n",
       "      <td>1.0</td>\n",
       "      <td>1.0</td>\n",
       "    </tr>\n",
       "    <tr>\n",
       "      <th>2</th>\n",
       "      <td>0.717592</td>\n",
       "      <td>0.282408</td>\n",
       "      <td>0.0</td>\n",
       "      <td>0.0</td>\n",
       "      <td>0.0</td>\n",
       "      <td>1.0</td>\n",
       "    </tr>\n",
       "    <tr>\n",
       "      <th>3</th>\n",
       "      <td>0.500000</td>\n",
       "      <td>0.500000</td>\n",
       "      <td>0.0</td>\n",
       "      <td>1.0</td>\n",
       "      <td>0.0</td>\n",
       "      <td>1.0</td>\n",
       "    </tr>\n",
       "    <tr>\n",
       "      <th>4</th>\n",
       "      <td>0.957703</td>\n",
       "      <td>0.042297</td>\n",
       "      <td>0.0</td>\n",
       "      <td>0.0</td>\n",
       "      <td>0.0</td>\n",
       "      <td>0.0</td>\n",
       "    </tr>\n",
       "  </tbody>\n",
       "</table>\n",
       "</div>"
      ],
      "text/plain": [
       "    class_0   class_1  predicted  actual  predicted_06  predicted_02\n",
       "0  0.725158  0.274842        0.0     1.0           0.0           1.0\n",
       "1  0.250849  0.749151        1.0     1.0           1.0           1.0\n",
       "2  0.717592  0.282408        0.0     0.0           0.0           1.0\n",
       "3  0.500000  0.500000        0.0     1.0           0.0           1.0\n",
       "4  0.957703  0.042297        0.0     0.0           0.0           0.0"
      ]
     },
     "execution_count": 1173,
     "metadata": {},
     "output_type": "execute_result"
    }
   ],
   "source": [
    "y_test_linsvm_df.head(5)"
   ]
  },
  {
   "cell_type": "code",
   "execution_count": 1323,
   "metadata": {},
   "outputs": [
    {
     "name": "stdout",
     "output_type": "stream",
     "text": [
      "    class_0   class_1  predicted  actual  predicted_06  predicted_02\n",
      "0  0.725158  0.274842        0.0     1.0           0.0           1.0\n",
      "1  0.250849  0.749151        1.0     1.0           1.0           1.0\n",
      "2  0.717592  0.282408        0.0     1.0           0.0           1.0\n",
      "3  0.500000  0.500000        0.0     0.0           0.0           1.0\n",
      "4  0.957703  0.042297        0.0     1.0           0.0           0.0\n",
      "\n",
      "Confusion matrix at original 0.5 threshold:\n",
      " [[131 126]\n",
      " [141 168]] \n",
      "\n",
      "Classification Report at original 0.5 threshold:\n",
      "              precision    recall  f1-score   support\n",
      "\n",
      "        0.0       0.48      0.51      0.50       257\n",
      "        1.0       0.57      0.54      0.56       309\n",
      "\n",
      "avg / total       0.53      0.53      0.53       566\n",
      " \n",
      "\n",
      "Confusion matrix at 0.2 threshold:\n",
      " [[ 56 201]\n",
      " [ 50 259]] \n",
      "\n",
      "Classification Report at 0.2 threshold:\n",
      "              precision    recall  f1-score   support\n",
      "\n",
      "        0.0       0.53      0.22      0.31       257\n",
      "        1.0       0.56      0.84      0.67       309\n",
      "\n",
      "avg / total       0.55      0.56      0.51       566\n",
      " \n",
      "\n"
     ]
    }
   ],
   "source": [
    "#Playing with threshold on Linear SVM \n",
    "y_test_linsvm_df = pd.DataFrame(\n",
    "    np.concatenate((\n",
    "        lin_svm_predicted_probs_weed, \n",
    "        lin_svm_pred_weed.reshape((lin_svm_pred_weed.shape[0],-1)),\n",
    "        y_test_weed.values.reshape((y_test.shape[0],-1))),axis=1\n",
    "    ),\n",
    "    columns = [\"class_0\",\"class_1\",\"predicted\",\"actual\"])\n",
    "\n",
    "#Setting a new threshold value \n",
    "y_test_linsvm_df[\"predicted_06\"] = (y_test_linsvm_df.class_1 > 0.61).astype(float) #False positives \n",
    "\n",
    "y_test_linsvm_df[\"predicted_02\"] = (y_test_linsvm_df.class_1 > 0.185).astype(float) #False negatives \n",
    "\n",
    "\n",
    "print(y_test_linsvm_df.head(5))\n",
    "print()\n",
    "\n",
    "print(\"Confusion matrix at original 0.5 threshold:\\n\",metrics.confusion_matrix(y_test_linsvm_df.actual,\n",
    "                                                                      y_test_linsvm_df.predicted),\"\\n\")\n",
    "\n",
    "print(\"Classification Report at original 0.5 threshold:\\n\", \n",
    "      metrics.classification_report(y_test_linsvm_df.actual,y_test_linsvm_df.predicted),\"\\n\")\n",
    "\n",
    "print(\"Confusion matrix at 0.2 threshold:\\n\",metrics.confusion_matrix(y_test_linsvm_df.actual,\n",
    "                                                                      y_test_linsvm_df.predicted_02),\"\\n\")\n",
    "\n",
    "print(\"Classification Report at 0.2 threshold:\\n\", metrics.classification_report(y_test_linsvm_df.actual,\n",
    "                                                                                 y_test_linsvm_df.predicted_02),\"\\n\")"
   ]
  },
  {
   "cell_type": "code",
   "execution_count": 1181,
   "metadata": {},
   "outputs": [
    {
     "data": {
      "text/plain": [
       "[('Nscore', -0.11294929170182044),\n",
       " ('Escore', -0.28871057085669261),\n",
       " ('Oscore', 0.7501368860538733),\n",
       " ('Ascore', -0.098805817210690705),\n",
       " ('Cscore', -0.42456001543634159),\n",
       " ('Impulsive', -0.043037323592972854),\n",
       " ('SS', 0.76185977883165634)]"
      ]
     },
     "execution_count": 1181,
     "metadata": {},
     "output_type": "execute_result"
    }
   ],
   "source": [
    "list(zip(X_train_weed.columns, lin_svm.coef_[0]))"
   ]
  },
  {
   "cell_type": "code",
   "execution_count": 1296,
   "metadata": {
    "scrolled": true
   },
   "outputs": [
    {
     "data": {
      "image/png": "[encoded data removed]",
      "text/plain": [
       "<matplotlib.figure.Figure at 0x1a5ecbbb00>"
      ]
     },
     "metadata": {},
     "output_type": "display_data"
    }
   ],
   "source": [
    "#Plotting max_features vs. accuracy\n",
    "\n",
    "### RANDOM FOREST ### \n",
    "feature_range = range(1, len(X_test.columns)+1)\n",
    "\n",
    "accuracy_scores = []\n",
    "\n",
    "for feature in feature_range:\n",
    "    randfor = RandomForestClassifier(n_estimators=50, bootstrap=True, \n",
    "                                    oob_score=True, max_features=feature, \n",
    "                                    random_state=1234)\n",
    "    randfor.fit(X_train, y_train)\n",
    "    predictions = randfor.predict(X_test)\n",
    "    accuracy = accuracy_score(y_test, predictions)\n",
    "    accuracy_scores.append(accuracy)\n",
    "    \n",
    "plot(feature_range, accuracy_scores)\n",
    "xlabel(\"Features\")\n",
    "ylabel(\"Accuracy Score\")\n",
    "title('Number of features vs. Accuracy Score - Random Forest');"
   ]
  },
  {
   "cell_type": "code",
   "execution_count": 1297,
   "metadata": {},
   "outputs": [
    {
     "data": {
      "image/png": "[encoded data removed]",
      "text/plain": [
       "<matplotlib.figure.Figure at 0x1a61245438>"
      ]
     },
     "metadata": {},
     "output_type": "display_data"
    }
   ],
   "source": [
    "#Plotting number of estimators vs. accuracy score\n",
    "estimator_range = range(20, 1000, 20) \n",
    "\n",
    "accuracy_scores = []\n",
    "\n",
    "for e in estimator_range:\n",
    "    randfor = RandomForestClassifier(n_estimators=e, bootstrap=True, \n",
    "                                    oob_score=True, random_state=1234)\n",
    "    randfor.fit(X_train, y_train)\n",
    "    predictions = randfor.predict(X_test)\n",
    "    accuracy = accuracy_score(y_test, predictions)\n",
    "    accuracy_scores.append(accuracy)\n",
    "    \n",
    "plot(estimator_range, accuracy_scores)\n",
    "xlabel(\"N_Estimators\")\n",
    "ylabel(\"Accuracy Score\")\n",
    "title('Number of estimators vs. Accuracy Score - Random Forest');"
   ]
  },
  {
   "cell_type": "markdown",
   "metadata": {},
   "source": [
    "## Building Personality-trait-only models for classes of choice \n",
    "\n",
    "Alcohol, Benzos, Coke, Ecstasy, Heroin, Ketamine, LSD, Shrooms, Nicotine"
   ]
  },
  {
   "cell_type": "markdown",
   "metadata": {},
   "source": [
    "Alcohol"
   ]
  },
  {
   "cell_type": "code",
   "execution_count": 619,
   "metadata": {
    "scrolled": true
   },
   "outputs": [
    {
     "data": {
      "text/html": [
       "<div>\n",
       "<style>\n",
       "    .dataframe thead tr:only-child th {\n",
       "        text-align: right;\n",
       "    }\n",
       "\n",
       "    .dataframe thead th {\n",
       "        text-align: left;\n",
       "    }\n",
       "\n",
       "    .dataframe tbody tr th {\n",
       "        vertical-align: top;\n",
       "    }\n",
       "</style>\n",
       "<table border=\"1\" class=\"dataframe\">\n",
       "  <thead>\n",
       "    <tr style=\"text-align: right;\">\n",
       "      <th></th>\n",
       "      <th>Age</th>\n",
       "      <th>Gender</th>\n",
       "      <th>Education</th>\n",
       "      <th>Nscore</th>\n",
       "      <th>Escore</th>\n",
       "      <th>Oscore</th>\n",
       "      <th>Ascore</th>\n",
       "      <th>Cscore</th>\n",
       "      <th>Impulsive</th>\n",
       "      <th>SS</th>\n",
       "      <th>Alc</th>\n",
       "      <th>Amphet</th>\n",
       "      <th>Benzos</th>\n",
       "      <th>Caffeine</th>\n",
       "      <th>Weed</th>\n",
       "      <th>Chocolate</th>\n",
       "      <th>Coke</th>\n",
       "      <th>Crack</th>\n",
       "      <th>Ecstasy</th>\n",
       "      <th>Heroin</th>\n",
       "      <th>Ket</th>\n",
       "      <th>LSD</th>\n",
       "      <th>Meth</th>\n",
       "      <th>Shrooms</th>\n",
       "      <th>Nicotine</th>\n",
       "      <th>USA</th>\n",
       "      <th>NZ</th>\n",
       "      <th>Other</th>\n",
       "      <th>Australia</th>\n",
       "      <th>Ireland</th>\n",
       "      <th>Canada</th>\n",
       "      <th>UK</th>\n",
       "      <th>Black</th>\n",
       "      <th>Asian</th>\n",
       "      <th>White</th>\n",
       "      <th>Mixed_WB</th>\n",
       "      <th>Other</th>\n",
       "      <th>Mixed_WA</th>\n",
       "      <th>Mixed_BA</th>\n",
       "    </tr>\n",
       "  </thead>\n",
       "  <tbody>\n",
       "    <tr>\n",
       "      <th>0</th>\n",
       "      <td>0.49788</td>\n",
       "      <td>0.48246</td>\n",
       "      <td>-0.05921</td>\n",
       "      <td>0.31287</td>\n",
       "      <td>-0.57545</td>\n",
       "      <td>-0.58331</td>\n",
       "      <td>-0.91699</td>\n",
       "      <td>-0.00665</td>\n",
       "      <td>-0.21712</td>\n",
       "      <td>-1.18084</td>\n",
       "      <td>1</td>\n",
       "      <td>0</td>\n",
       "      <td>0</td>\n",
       "      <td>1</td>\n",
       "      <td>0</td>\n",
       "      <td>1</td>\n",
       "      <td>0</td>\n",
       "      <td>0</td>\n",
       "      <td>0</td>\n",
       "      <td>0</td>\n",
       "      <td>0</td>\n",
       "      <td>0</td>\n",
       "      <td>0</td>\n",
       "      <td>0</td>\n",
       "      <td>0</td>\n",
       "      <td>0</td>\n",
       "      <td>0</td>\n",
       "      <td>0</td>\n",
       "      <td>0</td>\n",
       "      <td>0</td>\n",
       "      <td>0</td>\n",
       "      <td>1</td>\n",
       "      <td>0</td>\n",
       "      <td>0</td>\n",
       "      <td>0</td>\n",
       "      <td>0</td>\n",
       "      <td>0</td>\n",
       "      <td>1</td>\n",
       "      <td>0</td>\n",
       "    </tr>\n",
       "    <tr>\n",
       "      <th>1</th>\n",
       "      <td>-0.07854</td>\n",
       "      <td>-0.48246</td>\n",
       "      <td>1.98437</td>\n",
       "      <td>-0.67825</td>\n",
       "      <td>1.93886</td>\n",
       "      <td>1.43533</td>\n",
       "      <td>0.76096</td>\n",
       "      <td>-0.14277</td>\n",
       "      <td>-0.71126</td>\n",
       "      <td>-0.21575</td>\n",
       "      <td>1</td>\n",
       "      <td>0</td>\n",
       "      <td>0</td>\n",
       "      <td>1</td>\n",
       "      <td>1</td>\n",
       "      <td>1</td>\n",
       "      <td>1</td>\n",
       "      <td>0</td>\n",
       "      <td>1</td>\n",
       "      <td>0</td>\n",
       "      <td>0</td>\n",
       "      <td>0</td>\n",
       "      <td>1</td>\n",
       "      <td>0</td>\n",
       "      <td>1</td>\n",
       "      <td>0</td>\n",
       "      <td>0</td>\n",
       "      <td>0</td>\n",
       "      <td>0</td>\n",
       "      <td>0</td>\n",
       "      <td>0</td>\n",
       "      <td>1</td>\n",
       "      <td>0</td>\n",
       "      <td>0</td>\n",
       "      <td>1</td>\n",
       "      <td>0</td>\n",
       "      <td>0</td>\n",
       "      <td>0</td>\n",
       "      <td>0</td>\n",
       "    </tr>\n",
       "    <tr>\n",
       "      <th>2</th>\n",
       "      <td>0.49788</td>\n",
       "      <td>-0.48246</td>\n",
       "      <td>-0.05921</td>\n",
       "      <td>-0.46725</td>\n",
       "      <td>0.80523</td>\n",
       "      <td>-0.84732</td>\n",
       "      <td>-1.62090</td>\n",
       "      <td>-1.01450</td>\n",
       "      <td>-1.37983</td>\n",
       "      <td>0.40148</td>\n",
       "      <td>1</td>\n",
       "      <td>0</td>\n",
       "      <td>0</td>\n",
       "      <td>1</td>\n",
       "      <td>1</td>\n",
       "      <td>1</td>\n",
       "      <td>0</td>\n",
       "      <td>0</td>\n",
       "      <td>0</td>\n",
       "      <td>0</td>\n",
       "      <td>0</td>\n",
       "      <td>0</td>\n",
       "      <td>0</td>\n",
       "      <td>0</td>\n",
       "      <td>0</td>\n",
       "      <td>0</td>\n",
       "      <td>0</td>\n",
       "      <td>0</td>\n",
       "      <td>0</td>\n",
       "      <td>0</td>\n",
       "      <td>0</td>\n",
       "      <td>1</td>\n",
       "      <td>0</td>\n",
       "      <td>0</td>\n",
       "      <td>1</td>\n",
       "      <td>0</td>\n",
       "      <td>0</td>\n",
       "      <td>0</td>\n",
       "      <td>0</td>\n",
       "    </tr>\n",
       "    <tr>\n",
       "      <th>3</th>\n",
       "      <td>-0.95197</td>\n",
       "      <td>0.48246</td>\n",
       "      <td>1.16365</td>\n",
       "      <td>-0.14882</td>\n",
       "      <td>-0.80615</td>\n",
       "      <td>-0.01928</td>\n",
       "      <td>0.59042</td>\n",
       "      <td>0.58489</td>\n",
       "      <td>-1.37983</td>\n",
       "      <td>-1.18084</td>\n",
       "      <td>1</td>\n",
       "      <td>0</td>\n",
       "      <td>1</td>\n",
       "      <td>1</td>\n",
       "      <td>0</td>\n",
       "      <td>1</td>\n",
       "      <td>0</td>\n",
       "      <td>0</td>\n",
       "      <td>0</td>\n",
       "      <td>0</td>\n",
       "      <td>0</td>\n",
       "      <td>0</td>\n",
       "      <td>0</td>\n",
       "      <td>0</td>\n",
       "      <td>0</td>\n",
       "      <td>0</td>\n",
       "      <td>0</td>\n",
       "      <td>0</td>\n",
       "      <td>0</td>\n",
       "      <td>0</td>\n",
       "      <td>0</td>\n",
       "      <td>1</td>\n",
       "      <td>0</td>\n",
       "      <td>0</td>\n",
       "      <td>1</td>\n",
       "      <td>0</td>\n",
       "      <td>0</td>\n",
       "      <td>0</td>\n",
       "      <td>0</td>\n",
       "    </tr>\n",
       "    <tr>\n",
       "      <th>4</th>\n",
       "      <td>0.49788</td>\n",
       "      <td>0.48246</td>\n",
       "      <td>1.98437</td>\n",
       "      <td>0.73545</td>\n",
       "      <td>-1.63340</td>\n",
       "      <td>-0.45174</td>\n",
       "      <td>-0.30172</td>\n",
       "      <td>1.30612</td>\n",
       "      <td>-0.21712</td>\n",
       "      <td>-0.21575</td>\n",
       "      <td>1</td>\n",
       "      <td>0</td>\n",
       "      <td>0</td>\n",
       "      <td>1</td>\n",
       "      <td>1</td>\n",
       "      <td>1</td>\n",
       "      <td>0</td>\n",
       "      <td>0</td>\n",
       "      <td>0</td>\n",
       "      <td>0</td>\n",
       "      <td>0</td>\n",
       "      <td>0</td>\n",
       "      <td>0</td>\n",
       "      <td>0</td>\n",
       "      <td>0</td>\n",
       "      <td>0</td>\n",
       "      <td>0</td>\n",
       "      <td>0</td>\n",
       "      <td>0</td>\n",
       "      <td>0</td>\n",
       "      <td>0</td>\n",
       "      <td>1</td>\n",
       "      <td>0</td>\n",
       "      <td>0</td>\n",
       "      <td>1</td>\n",
       "      <td>0</td>\n",
       "      <td>0</td>\n",
       "      <td>0</td>\n",
       "      <td>0</td>\n",
       "    </tr>\n",
       "  </tbody>\n",
       "</table>\n",
       "</div>"
      ],
      "text/plain": [
       "       Age   Gender  Education   Nscore   Escore   Oscore   Ascore   Cscore  \\\n",
       "0  0.49788  0.48246   -0.05921  0.31287 -0.57545 -0.58331 -0.91699 -0.00665   \n",
       "1 -0.07854 -0.48246    1.98437 -0.67825  1.93886  1.43533  0.76096 -0.14277   \n",
       "2  0.49788 -0.48246   -0.05921 -0.46725  0.80523 -0.84732 -1.62090 -1.01450   \n",
       "3 -0.95197  0.48246    1.16365 -0.14882 -0.80615 -0.01928  0.59042  0.58489   \n",
       "4  0.49788  0.48246    1.98437  0.73545 -1.63340 -0.45174 -0.30172  1.30612   \n",
       "\n",
       "   Impulsive       SS  Alc  Amphet  Benzos  Caffeine  Weed  Chocolate  Coke  \\\n",
       "0   -0.21712 -1.18084    1       0       0         1     0          1     0   \n",
       "1   -0.71126 -0.21575    1       0       0         1     1          1     1   \n",
       "2   -1.37983  0.40148    1       0       0         1     1          1     0   \n",
       "3   -1.37983 -1.18084    1       0       1         1     0          1     0   \n",
       "4   -0.21712 -0.21575    1       0       0         1     1          1     0   \n",
       "\n",
       "   Crack  Ecstasy  Heroin  Ket  LSD  Meth  Shrooms  Nicotine  USA  NZ  Other  \\\n",
       "0      0        0       0    0    0     0        0         0    0   0      0   \n",
       "1      0        1       0    0    0     1        0         1    0   0      0   \n",
       "2      0        0       0    0    0     0        0         0    0   0      0   \n",
       "3      0        0       0    0    0     0        0         0    0   0      0   \n",
       "4      0        0       0    0    0     0        0         0    0   0      0   \n",
       "\n",
       "   Australia  Ireland  Canada  UK  Black  Asian  White  Mixed_WB  Other  \\\n",
       "0          0        0       0   1      0      0      0         0      0   \n",
       "1          0        0       0   1      0      0      1         0      0   \n",
       "2          0        0       0   1      0      0      1         0      0   \n",
       "3          0        0       0   1      0      0      1         0      0   \n",
       "4          0        0       0   1      0      0      1         0      0   \n",
       "\n",
       "   Mixed_WA  Mixed_BA  \n",
       "0         1         0  \n",
       "1         0         0  \n",
       "2         0         0  \n",
       "3         0         0  \n",
       "4         0         0  "
      ]
     },
     "execution_count": 619,
     "metadata": {},
     "output_type": "execute_result"
    }
   ],
   "source": [
    "drug_df.head()"
   ]
  },
  {
   "cell_type": "code",
   "execution_count": 1349,
   "metadata": {
    "collapsed": true
   },
   "outputs": [],
   "source": [
    "X = drug_df.iloc[:, [3, 4, 5, 6, 7, 8, 9]]\n",
    "y_alc = drug_df.Alc\n",
    "y_alc.value_counts()\n",
    "X_train_alc, X_test_alc, y_train_alc, y_test_alc = train_test_split(X, y_alc, test_size=0.3)"
   ]
  },
  {
   "cell_type": "code",
   "execution_count": 1350,
   "metadata": {},
   "outputs": [
    {
     "data": {
      "text/plain": [
       "1    1749\n",
       "0     136\n",
       "Name: Alc, dtype: int64"
      ]
     },
     "execution_count": 1350,
     "metadata": {},
     "output_type": "execute_result"
    }
   ],
   "source": [
    "drug_df.Alc.value_counts()"
   ]
  },
  {
   "cell_type": "code",
   "execution_count": 1351,
   "metadata": {},
   "outputs": [
    {
     "data": {
      "text/plain": [
       "0.93992932862190814"
      ]
     },
     "execution_count": 1351,
     "metadata": {},
     "output_type": "execute_result"
    }
   ],
   "source": [
    "#SMOTE\n",
    "#sm = SMOTE(random_state=1234)\n",
    "#X_train_alc, y_train_alc = sm.fit_sample(X_train_alc, y_train_alc)\n",
    "\n",
    "#Standardize the personality trait features before running random forests\n",
    "scaler = StandardScaler()\n",
    "#Scale X dataset for random forests\n",
    "scaler.fit(X_train_alc)\n",
    "#Transform train\n",
    "X_train_scaled_alc = scaler.transform(X_train_alc)\n",
    "#Transform test \n",
    "X_test_scaled_alc = scaler.transform(X_test_alc)\n",
    "#Model\n",
    "rf_alc = RandomForestClassifier(n_estimators=500)\n",
    "rf_alc.fit(X_train_scaled_alc, y_train_alc)\n",
    "alc_pred = rf_alc.predict(X_test_scaled_alc)\n",
    "metrics.accuracy_score(y_test_alc, alc_pred)"
   ]
  },
  {
   "cell_type": "code",
   "execution_count": 1352,
   "metadata": {
    "scrolled": true
   },
   "outputs": [
    {
     "data": {
      "text/html": [
       "<div>\n",
       "<style>\n",
       "    .dataframe thead tr:only-child th {\n",
       "        text-align: right;\n",
       "    }\n",
       "\n",
       "    .dataframe thead th {\n",
       "        text-align: left;\n",
       "    }\n",
       "\n",
       "    .dataframe tbody tr th {\n",
       "        vertical-align: top;\n",
       "    }\n",
       "</style>\n",
       "<table border=\"1\" class=\"dataframe\">\n",
       "  <thead>\n",
       "    <tr style=\"text-align: right;\">\n",
       "      <th></th>\n",
       "      <th>Feature</th>\n",
       "      <th>Importance</th>\n",
       "    </tr>\n",
       "  </thead>\n",
       "  <tbody>\n",
       "    <tr>\n",
       "      <th>4</th>\n",
       "      <td>Cscore</td>\n",
       "      <td>0.165842</td>\n",
       "    </tr>\n",
       "    <tr>\n",
       "      <th>2</th>\n",
       "      <td>Oscore</td>\n",
       "      <td>0.163296</td>\n",
       "    </tr>\n",
       "    <tr>\n",
       "      <th>1</th>\n",
       "      <td>Escore</td>\n",
       "      <td>0.156565</td>\n",
       "    </tr>\n",
       "    <tr>\n",
       "      <th>0</th>\n",
       "      <td>Nscore</td>\n",
       "      <td>0.155954</td>\n",
       "    </tr>\n",
       "    <tr>\n",
       "      <th>3</th>\n",
       "      <td>Ascore</td>\n",
       "      <td>0.155461</td>\n",
       "    </tr>\n",
       "    <tr>\n",
       "      <th>6</th>\n",
       "      <td>SS</td>\n",
       "      <td>0.106084</td>\n",
       "    </tr>\n",
       "    <tr>\n",
       "      <th>5</th>\n",
       "      <td>Impulsive</td>\n",
       "      <td>0.096799</td>\n",
       "    </tr>\n",
       "  </tbody>\n",
       "</table>\n",
       "</div>"
      ],
      "text/plain": [
       "     Feature  Importance\n",
       "4     Cscore    0.165842\n",
       "2     Oscore    0.163296\n",
       "1     Escore    0.156565\n",
       "0     Nscore    0.155954\n",
       "3     Ascore    0.155461\n",
       "6         SS    0.106084\n",
       "5  Impulsive    0.096799"
      ]
     },
     "execution_count": 1352,
     "metadata": {},
     "output_type": "execute_result"
    }
   ],
   "source": [
    "pd.DataFrame({'Feature':X.columns,\n",
    "              'Importance':rf_alc.feature_importances_}).sort_values(by='Importance', ascending=False)"
   ]
  },
  {
   "cell_type": "code",
   "execution_count": 1342,
   "metadata": {},
   "outputs": [
    {
     "name": "stdout",
     "output_type": "stream",
     "text": [
      "[[  0  31]\n",
      " [  1 534]]\n",
      "             precision    recall  f1-score   support\n",
      "\n",
      "          0       0.00      0.00      0.00        31\n",
      "          1       0.95      1.00      0.97       535\n",
      "\n",
      "avg / total       0.89      0.94      0.92       566\n",
      "\n",
      "0.91773209123\n"
     ]
    }
   ],
   "source": [
    "print(metrics.confusion_matrix(y_test_alc, alc_pred))\n",
    "print(metrics.classification_report(y_test_alc, alc_pred))\n",
    "print(metrics.f1_score(y_test_alc, alc_pred, average='weighted'))"
   ]
  },
  {
   "cell_type": "code",
   "execution_count": 1347,
   "metadata": {},
   "outputs": [
    {
     "name": "stdout",
     "output_type": "stream",
     "text": [
      "0.945229681979\n",
      "[[  0  31]\n",
      " [  0 535]]\n",
      "             precision    recall  f1-score   support\n",
      "\n",
      "          0       0.00      0.00      0.00        31\n",
      "          1       0.95      1.00      0.97       535\n",
      "\n",
      "avg / total       0.89      0.95      0.92       566\n",
      "\n"
     ]
    },
    {
     "name": "stderr",
     "output_type": "stream",
     "text": [
      "/Users/Jacob/anaconda3/lib/python3.6/site-packages/sklearn/metrics/classification.py:1135: UndefinedMetricWarning: Precision and F-score are ill-defined and being set to 0.0 in labels with no predicted samples.\n",
      "  'precision', 'predicted', average, warn_for)\n"
     ]
    },
    {
     "data": {
      "text/plain": [
       "[('Nscore', -2.2522393853918743e-05),\n",
       " ('Escore', 2.1241341745081854e-05),\n",
       " ('Oscore', -2.8236318762253632e-05),\n",
       " ('Ascore', 5.6135185934280685e-05),\n",
       " ('Cscore', -1.5131378125587958e-05),\n",
       " ('Impulsive', -1.9924119825986963e-05),\n",
       " ('SS', 2.9444043423865196e-05)]"
      ]
     },
     "execution_count": 1347,
     "metadata": {},
     "output_type": "execute_result"
    }
   ],
   "source": [
    "#support vector machine for alcohol \n",
    "#Linear SVM for Cocaine\n",
    "lin_svm_alc = svm.SVC(kernel='linear', probability=True)\n",
    "lin_svm_alc.fit(X_train_alc, y_train_alc)\n",
    "print(lin_svm_alc.score(X_test_alc, y_test_alc))\n",
    "lin_svm_pred_alc = lin_svm_alc.predict(X_test_alc)\n",
    "\n",
    "lin_svm_predicted_probs_alc = lin_svm.predict_proba(X_test_alc)\n",
    "print(metrics.confusion_matrix(y_test_alc, lin_svm_pred_alc))\n",
    "print(metrics.classification_report(y_test_alc, lin_svm_pred_alc))\n",
    "list(zip(X_test_alc.columns, lin_svm_alc.coef_[0]))"
   ]
  },
  {
   "cell_type": "code",
   "execution_count": 1358,
   "metadata": {},
   "outputs": [
    {
     "name": "stdout",
     "output_type": "stream",
     "text": [
      "0.939929328622\n",
      "[[  0  34]\n",
      " [  0 532]]\n",
      "             precision    recall  f1-score   support\n",
      "\n",
      "          0       0.00      0.00      0.00        34\n",
      "          1       0.94      1.00      0.97       532\n",
      "\n",
      "avg / total       0.88      0.94      0.91       566\n",
      "\n"
     ]
    },
    {
     "name": "stderr",
     "output_type": "stream",
     "text": [
      "/Users/Jacob/anaconda3/lib/python3.6/site-packages/sklearn/metrics/classification.py:1135: UndefinedMetricWarning: Precision and F-score are ill-defined and being set to 0.0 in labels with no predicted samples.\n",
      "  'precision', 'predicted', average, warn_for)\n"
     ]
    },
    {
     "data": {
      "text/plain": [
       "[('Nscore', -0.0050605712178631839),\n",
       " ('Escore', 0.22781636262099494),\n",
       " ('Oscore', -0.18246085801695541),\n",
       " ('Ascore', -0.0439222331468253),\n",
       " ('Cscore', -0.1384698900916477),\n",
       " ('Impulsive', -0.24524950249160468),\n",
       " ('SS', 0.38223339782905685)]"
      ]
     },
     "execution_count": 1358,
     "metadata": {},
     "output_type": "execute_result"
    }
   ],
   "source": [
    "logreg_alc = LogisticRegression(C=1e9)\n",
    "logreg_alc.fit(X_train_scaled_alc, y_train_alc)\n",
    "print(logreg_alc.score(X_test_alc, y_test_alc))\n",
    "\n",
    "logreg_pred_alc = logreg_alc.predict(X_test_alc)\n",
    "\n",
    "#logreg_predicted_probs_alc = logreg_alc.predict_proba(X_test_alc)\n",
    "print(metrics.confusion_matrix(y_test_alc, logreg_pred_alc))\n",
    "print(metrics.classification_report(y_test_alc, logreg_pred_alc))\n",
    "list(zip(X_test_alc.columns, logreg_alc.coef_[0]))"
   ]
  },
  {
   "cell_type": "markdown",
   "metadata": {},
   "source": [
    "Benzodiazepines"
   ]
  },
  {
   "cell_type": "code",
   "execution_count": 706,
   "metadata": {},
   "outputs": [
    {
     "name": "stdout",
     "output_type": "stream",
     "text": [
      "0    1350\n",
      "1     535\n",
      "Name: Benzos, dtype: int64\n"
     ]
    }
   ],
   "source": [
    "X = drug_df.iloc[:, [3, 4, 5, 6, 7, 8, 9]]\n",
    "y_benzos = drug_df.Benzos\n",
    "print(drug_df.Benzos.value_counts())\n",
    "X_train_benzo, X_test_benzo, y_train_benzo, y_test_benzo = train_test_split(X, y_benzos,\n",
    "                                                                            test_size=0.3, random_state=1234) "
   ]
  },
  {
   "cell_type": "code",
   "execution_count": 711,
   "metadata": {},
   "outputs": [
    {
     "name": "stdout",
     "output_type": "stream",
     "text": [
      "Benzos Random Forest Test Accuracy: 0.747349823322\n"
     ]
    }
   ],
   "source": [
    "#Standardize the personality trait features before running random forests\n",
    "#Scale X dataset for random forests\n",
    "scaler.fit(X_train_benzo)\n",
    "#Transform train\n",
    "X_train_scaled_benzo = scaler.transform(X_train_benzo)\n",
    "#Transform test \n",
    "X_test_scaled_benzo = scaler.transform(X_test_benzo)\n",
    "#Model\n",
    "rf_benzos = RandomForestClassifier(n_estimators=50, random_state=1234)\n",
    "rf_benzos.fit(X_train_scaled_benzo, y_train_benzo)\n",
    "benzos_pred = rf_benzos.predict(X_test_scaled_benzo)\n",
    "print(\"Benzos Random Forest Test Accuracy:\", metrics.accuracy_score(y_test_benzo, benzos_pred))"
   ]
  },
  {
   "cell_type": "code",
   "execution_count": 708,
   "metadata": {},
   "outputs": [
    {
     "data": {
      "text/plain": [
       "[('Nscore', 0.18819983674532473),\n",
       " ('Escore', 0.14916651474423132),\n",
       " ('Oscore', 0.15559145218531131),\n",
       " ('Ascore', 0.14234227999333396),\n",
       " ('Cscore', 0.14502514144100434),\n",
       " ('Impulsive', 0.093996575855915088),\n",
       " ('SS', 0.12567819903487928)]"
      ]
     },
     "execution_count": 708,
     "metadata": {},
     "output_type": "execute_result"
    }
   ],
   "source": [
    "list(zip(X.columns, rf_benzos.feature_importances_))"
   ]
  },
  {
   "cell_type": "code",
   "execution_count": 709,
   "metadata": {
    "scrolled": true
   },
   "outputs": [
    {
     "data": {
      "text/html": [
       "<div>\n",
       "<style>\n",
       "    .dataframe thead tr:only-child th {\n",
       "        text-align: right;\n",
       "    }\n",
       "\n",
       "    .dataframe thead th {\n",
       "        text-align: left;\n",
       "    }\n",
       "\n",
       "    .dataframe tbody tr th {\n",
       "        vertical-align: top;\n",
       "    }\n",
       "</style>\n",
       "<table border=\"1\" class=\"dataframe\">\n",
       "  <thead>\n",
       "    <tr style=\"text-align: right;\">\n",
       "      <th></th>\n",
       "      <th>Actual</th>\n",
       "      <th>Predicted</th>\n",
       "    </tr>\n",
       "  </thead>\n",
       "  <tbody>\n",
       "    <tr>\n",
       "      <th>411</th>\n",
       "      <td>0</td>\n",
       "      <td>0</td>\n",
       "    </tr>\n",
       "    <tr>\n",
       "      <th>456</th>\n",
       "      <td>0</td>\n",
       "      <td>0</td>\n",
       "    </tr>\n",
       "    <tr>\n",
       "      <th>1859</th>\n",
       "      <td>1</td>\n",
       "      <td>1</td>\n",
       "    </tr>\n",
       "    <tr>\n",
       "      <th>1436</th>\n",
       "      <td>0</td>\n",
       "      <td>0</td>\n",
       "    </tr>\n",
       "    <tr>\n",
       "      <th>1332</th>\n",
       "      <td>1</td>\n",
       "      <td>1</td>\n",
       "    </tr>\n",
       "    <tr>\n",
       "      <th>1142</th>\n",
       "      <td>0</td>\n",
       "      <td>1</td>\n",
       "    </tr>\n",
       "    <tr>\n",
       "      <th>240</th>\n",
       "      <td>0</td>\n",
       "      <td>0</td>\n",
       "    </tr>\n",
       "    <tr>\n",
       "      <th>47</th>\n",
       "      <td>0</td>\n",
       "      <td>0</td>\n",
       "    </tr>\n",
       "    <tr>\n",
       "      <th>1096</th>\n",
       "      <td>1</td>\n",
       "      <td>0</td>\n",
       "    </tr>\n",
       "    <tr>\n",
       "      <th>545</th>\n",
       "      <td>0</td>\n",
       "      <td>0</td>\n",
       "    </tr>\n",
       "    <tr>\n",
       "      <th>1301</th>\n",
       "      <td>0</td>\n",
       "      <td>0</td>\n",
       "    </tr>\n",
       "    <tr>\n",
       "      <th>719</th>\n",
       "      <td>0</td>\n",
       "      <td>0</td>\n",
       "    </tr>\n",
       "    <tr>\n",
       "      <th>324</th>\n",
       "      <td>0</td>\n",
       "      <td>0</td>\n",
       "    </tr>\n",
       "    <tr>\n",
       "      <th>1311</th>\n",
       "      <td>0</td>\n",
       "      <td>0</td>\n",
       "    </tr>\n",
       "    <tr>\n",
       "      <th>876</th>\n",
       "      <td>0</td>\n",
       "      <td>0</td>\n",
       "    </tr>\n",
       "    <tr>\n",
       "      <th>1610</th>\n",
       "      <td>0</td>\n",
       "      <td>1</td>\n",
       "    </tr>\n",
       "    <tr>\n",
       "      <th>850</th>\n",
       "      <td>0</td>\n",
       "      <td>1</td>\n",
       "    </tr>\n",
       "    <tr>\n",
       "      <th>967</th>\n",
       "      <td>0</td>\n",
       "      <td>0</td>\n",
       "    </tr>\n",
       "    <tr>\n",
       "      <th>1558</th>\n",
       "      <td>0</td>\n",
       "      <td>0</td>\n",
       "    </tr>\n",
       "    <tr>\n",
       "      <th>1117</th>\n",
       "      <td>1</td>\n",
       "      <td>1</td>\n",
       "    </tr>\n",
       "    <tr>\n",
       "      <th>1749</th>\n",
       "      <td>0</td>\n",
       "      <td>0</td>\n",
       "    </tr>\n",
       "    <tr>\n",
       "      <th>1766</th>\n",
       "      <td>0</td>\n",
       "      <td>0</td>\n",
       "    </tr>\n",
       "    <tr>\n",
       "      <th>235</th>\n",
       "      <td>1</td>\n",
       "      <td>0</td>\n",
       "    </tr>\n",
       "    <tr>\n",
       "      <th>1823</th>\n",
       "      <td>0</td>\n",
       "      <td>0</td>\n",
       "    </tr>\n",
       "    <tr>\n",
       "      <th>87</th>\n",
       "      <td>0</td>\n",
       "      <td>0</td>\n",
       "    </tr>\n",
       "    <tr>\n",
       "      <th>1051</th>\n",
       "      <td>0</td>\n",
       "      <td>0</td>\n",
       "    </tr>\n",
       "    <tr>\n",
       "      <th>1306</th>\n",
       "      <td>0</td>\n",
       "      <td>1</td>\n",
       "    </tr>\n",
       "    <tr>\n",
       "      <th>1447</th>\n",
       "      <td>0</td>\n",
       "      <td>0</td>\n",
       "    </tr>\n",
       "    <tr>\n",
       "      <th>1213</th>\n",
       "      <td>1</td>\n",
       "      <td>1</td>\n",
       "    </tr>\n",
       "    <tr>\n",
       "      <th>1557</th>\n",
       "      <td>0</td>\n",
       "      <td>0</td>\n",
       "    </tr>\n",
       "    <tr>\n",
       "      <th>...</th>\n",
       "      <td>...</td>\n",
       "      <td>...</td>\n",
       "    </tr>\n",
       "    <tr>\n",
       "      <th>504</th>\n",
       "      <td>1</td>\n",
       "      <td>1</td>\n",
       "    </tr>\n",
       "    <tr>\n",
       "      <th>1277</th>\n",
       "      <td>0</td>\n",
       "      <td>1</td>\n",
       "    </tr>\n",
       "    <tr>\n",
       "      <th>418</th>\n",
       "      <td>0</td>\n",
       "      <td>0</td>\n",
       "    </tr>\n",
       "    <tr>\n",
       "      <th>1545</th>\n",
       "      <td>0</td>\n",
       "      <td>0</td>\n",
       "    </tr>\n",
       "    <tr>\n",
       "      <th>1147</th>\n",
       "      <td>1</td>\n",
       "      <td>0</td>\n",
       "    </tr>\n",
       "    <tr>\n",
       "      <th>147</th>\n",
       "      <td>0</td>\n",
       "      <td>0</td>\n",
       "    </tr>\n",
       "    <tr>\n",
       "      <th>1255</th>\n",
       "      <td>0</td>\n",
       "      <td>0</td>\n",
       "    </tr>\n",
       "    <tr>\n",
       "      <th>227</th>\n",
       "      <td>0</td>\n",
       "      <td>0</td>\n",
       "    </tr>\n",
       "    <tr>\n",
       "      <th>485</th>\n",
       "      <td>0</td>\n",
       "      <td>0</td>\n",
       "    </tr>\n",
       "    <tr>\n",
       "      <th>390</th>\n",
       "      <td>0</td>\n",
       "      <td>0</td>\n",
       "    </tr>\n",
       "    <tr>\n",
       "      <th>60</th>\n",
       "      <td>1</td>\n",
       "      <td>1</td>\n",
       "    </tr>\n",
       "    <tr>\n",
       "      <th>435</th>\n",
       "      <td>0</td>\n",
       "      <td>0</td>\n",
       "    </tr>\n",
       "    <tr>\n",
       "      <th>376</th>\n",
       "      <td>0</td>\n",
       "      <td>0</td>\n",
       "    </tr>\n",
       "    <tr>\n",
       "      <th>348</th>\n",
       "      <td>0</td>\n",
       "      <td>0</td>\n",
       "    </tr>\n",
       "    <tr>\n",
       "      <th>302</th>\n",
       "      <td>0</td>\n",
       "      <td>0</td>\n",
       "    </tr>\n",
       "    <tr>\n",
       "      <th>33</th>\n",
       "      <td>0</td>\n",
       "      <td>0</td>\n",
       "    </tr>\n",
       "    <tr>\n",
       "      <th>1676</th>\n",
       "      <td>0</td>\n",
       "      <td>0</td>\n",
       "    </tr>\n",
       "    <tr>\n",
       "      <th>1763</th>\n",
       "      <td>0</td>\n",
       "      <td>0</td>\n",
       "    </tr>\n",
       "    <tr>\n",
       "      <th>1736</th>\n",
       "      <td>0</td>\n",
       "      <td>0</td>\n",
       "    </tr>\n",
       "    <tr>\n",
       "      <th>838</th>\n",
       "      <td>1</td>\n",
       "      <td>0</td>\n",
       "    </tr>\n",
       "    <tr>\n",
       "      <th>811</th>\n",
       "      <td>0</td>\n",
       "      <td>1</td>\n",
       "    </tr>\n",
       "    <tr>\n",
       "      <th>1218</th>\n",
       "      <td>1</td>\n",
       "      <td>1</td>\n",
       "    </tr>\n",
       "    <tr>\n",
       "      <th>1343</th>\n",
       "      <td>0</td>\n",
       "      <td>0</td>\n",
       "    </tr>\n",
       "    <tr>\n",
       "      <th>413</th>\n",
       "      <td>0</td>\n",
       "      <td>0</td>\n",
       "    </tr>\n",
       "    <tr>\n",
       "      <th>871</th>\n",
       "      <td>0</td>\n",
       "      <td>0</td>\n",
       "    </tr>\n",
       "    <tr>\n",
       "      <th>1244</th>\n",
       "      <td>0</td>\n",
       "      <td>0</td>\n",
       "    </tr>\n",
       "    <tr>\n",
       "      <th>1589</th>\n",
       "      <td>0</td>\n",
       "      <td>0</td>\n",
       "    </tr>\n",
       "    <tr>\n",
       "      <th>993</th>\n",
       "      <td>1</td>\n",
       "      <td>0</td>\n",
       "    </tr>\n",
       "    <tr>\n",
       "      <th>552</th>\n",
       "      <td>0</td>\n",
       "      <td>0</td>\n",
       "    </tr>\n",
       "    <tr>\n",
       "      <th>1479</th>\n",
       "      <td>1</td>\n",
       "      <td>0</td>\n",
       "    </tr>\n",
       "  </tbody>\n",
       "</table>\n",
       "<p>566 rows × 2 columns</p>\n",
       "</div>"
      ],
      "text/plain": [
       "      Actual  Predicted\n",
       "411        0          0\n",
       "456        0          0\n",
       "1859       1          1\n",
       "1436       0          0\n",
       "1332       1          1\n",
       "1142       0          1\n",
       "240        0          0\n",
       "47         0          0\n",
       "1096       1          0\n",
       "545        0          0\n",
       "1301       0          0\n",
       "719        0          0\n",
       "324        0          0\n",
       "1311       0          0\n",
       "876        0          0\n",
       "1610       0          1\n",
       "850        0          1\n",
       "967        0          0\n",
       "1558       0          0\n",
       "1117       1          1\n",
       "1749       0          0\n",
       "1766       0          0\n",
       "235        1          0\n",
       "1823       0          0\n",
       "87         0          0\n",
       "1051       0          0\n",
       "1306       0          1\n",
       "1447       0          0\n",
       "1213       1          1\n",
       "1557       0          0\n",
       "...      ...        ...\n",
       "504        1          1\n",
       "1277       0          1\n",
       "418        0          0\n",
       "1545       0          0\n",
       "1147       1          0\n",
       "147        0          0\n",
       "1255       0          0\n",
       "227        0          0\n",
       "485        0          0\n",
       "390        0          0\n",
       "60         1          1\n",
       "435        0          0\n",
       "376        0          0\n",
       "348        0          0\n",
       "302        0          0\n",
       "33         0          0\n",
       "1676       0          0\n",
       "1763       0          0\n",
       "1736       0          0\n",
       "838        1          0\n",
       "811        0          1\n",
       "1218       1          1\n",
       "1343       0          0\n",
       "413        0          0\n",
       "871        0          0\n",
       "1244       0          0\n",
       "1589       0          0\n",
       "993        1          0\n",
       "552        0          0\n",
       "1479       1          0\n",
       "\n",
       "[566 rows x 2 columns]"
      ]
     },
     "execution_count": 709,
     "metadata": {},
     "output_type": "execute_result"
    }
   ],
   "source": [
    "pd.DataFrame({'Actual':y_test_benzo,'Predicted':benzos_pred})"
   ]
  },
  {
   "cell_type": "markdown",
   "metadata": {},
   "source": [
    "Cocaine"
   ]
  },
  {
   "cell_type": "code",
   "execution_count": 1823,
   "metadata": {},
   "outputs": [
    {
     "name": "stdout",
     "output_type": "stream",
     "text": [
      "0    1468\n",
      "1     417\n",
      "Name: Coke, dtype: int64\n"
     ]
    }
   ],
   "source": [
    "X = drug_df.iloc[:, [3, 4, 5, 6, 7, 8, 9]]\n",
    "y_coke = drug_df.Coke\n",
    "print(drug_df.Coke.value_counts())\n",
    "X_train_coke, X_test_coke, y_train_coke, y_test_coke = train_test_split(X, y_coke, test_size=0.3) "
   ]
  },
  {
   "cell_type": "code",
   "execution_count": 1824,
   "metadata": {},
   "outputs": [
    {
     "name": "stdout",
     "output_type": "stream",
     "text": [
      "0.757950530035\n",
      "[[395  43]\n",
      " [ 94  34]]\n",
      "             precision    recall  f1-score   support\n",
      "\n",
      "          0       0.81      0.90      0.85       438\n",
      "          1       0.44      0.27      0.33       128\n",
      "\n",
      "avg / total       0.72      0.76      0.73       566\n",
      "\n"
     ]
    }
   ],
   "source": [
    "#SMOTE\n",
    "sm = SMOTE()\n",
    "X_train_coke, y_train_coke = sm.fit_sample(X_train_coke, y_train_coke)\n",
    "\n",
    "#Standardize the personality trait features before running random forests\n",
    "#Scale X dataset for random forests\n",
    "scaler.fit(X_train_coke)\n",
    "#Transform train\n",
    "X_train_scaled_coke = scaler.transform(X_train_coke)\n",
    "#Transform test \n",
    "X_test_scaled_coke = scaler.transform(X_test_coke)\n",
    "\n",
    "#Model\n",
    "rf_coke = RandomForestClassifier(n_estimators=1000) #class_weight={0:1,1:3})\n",
    "rf_coke.fit(X_train_scaled_coke, y_train_coke)\n",
    "coke_pred = rf_coke.predict(X_test_scaled_coke)\n",
    "print(metrics.accuracy_score(y_test_coke, coke_pred))\n",
    "print(metrics.confusion_matrix(y_test_coke, coke_pred))\n",
    "print(metrics.classification_report(y_test_coke, coke_pred))\n",
    "\n",
    "#predicted probas\n",
    "rf_predicted_probs_coke = rf_coke.predict_proba(X_test_scaled_coke)\n",
    "rf_coke_pred = rf_coke.predict(X_test_scaled_coke)"
   ]
  },
  {
   "cell_type": "code",
   "execution_count": 1825,
   "metadata": {},
   "outputs": [
    {
     "data": {
      "text/plain": [
       "['Non-User', 'User']"
      ]
     },
     "execution_count": 1825,
     "metadata": {},
     "output_type": "execute_result"
    }
   ],
   "source": [
    "rf_coke.feature_names = ['Neuroticism: Neurotic individuals are likely to experience feelings \\\n",
    "of anxiety, worry, depression, loneliness and guilt.',\n",
    "                         'Extraversion: Extroverted individuals tend to be more outgoing and social. They recharge around other people.', \n",
    "                         'Openness: Imaginative, curious and open-minded people. Attentiveness to inner feelings and focused on trying new things.',\n",
    "                         'Agreeableness: Agreeable individuals tend to be more empathetic, caring and cooperative towards other people.', \n",
    "                         'Conscientiousness: Goal-oriented, diligent individuals that enjoy having a set schedule and structure. Strong attention to detail.',\n",
    "                         'Impulsiveness: Impulsive individuals tend to display behavior characterized by having little or no forethought of the consequences of their actions.',\n",
    "                         'Sensation-Seeking: Excitement-seeking individuals that are easily bored without high levels of stimulation.']\n",
    "rf_coke.feature_names\n",
    "targets = [\"Non-User\", \"User\"]\n",
    "rf_coke.target_names = targets\n",
    "rf_coke.target_names"
   ]
  },
  {
   "cell_type": "code",
   "execution_count": 1815,
   "metadata": {
    "collapsed": true
   },
   "outputs": [],
   "source": [
    "#Pickling linear svm for nicotine\n",
    "with open(\"rf_coke.pkl\", \"wb\") as f:\n",
    "    pickle.dump(rf_coke, f)"
   ]
  },
  {
   "cell_type": "code",
   "execution_count": 1816,
   "metadata": {
    "collapsed": true
   },
   "outputs": [],
   "source": [
    "#Testing opening pickled model \n",
    "with open(\"rf_coke.pkl\", \"rb\") as f:\n",
    "    rf_coke_pickle = pickle.load(f)"
   ]
  },
  {
   "cell_type": "code",
   "execution_count": 1812,
   "metadata": {},
   "outputs": [
    {
     "data": {
      "text/plain": [
       "RandomForestClassifier(bootstrap=True, class_weight=None, criterion='gini',\n",
       "            max_depth=None, max_features='auto', max_leaf_nodes=None,\n",
       "            min_impurity_decrease=0.0, min_impurity_split=None,\n",
       "            min_samples_leaf=1, min_samples_split=2,\n",
       "            min_weight_fraction_leaf=0.0, n_estimators=1000, n_jobs=1,\n",
       "            oob_score=False, random_state=None, verbose=0,\n",
       "            warm_start=False)"
      ]
     },
     "execution_count": 1812,
     "metadata": {},
     "output_type": "execute_result"
    }
   ],
   "source": [
    "rf_coke_pickle.predict_proba()"
   ]
  },
  {
   "cell_type": "code",
   "execution_count": 1738,
   "metadata": {},
   "outputs": [
    {
     "data": {
      "text/plain": [
       "[('Nscore', 0.15231078093691969),\n",
       " ('Escore', 0.14904856308937567),\n",
       " ('Oscore', 0.14912036110550261),\n",
       " ('Ascore', 0.15282769727092407),\n",
       " ('Cscore', 0.15805560115879513),\n",
       " ('Impulsive', 0.099733505983166632),\n",
       " ('SS', 0.13890349045531597)]"
      ]
     },
     "execution_count": 1738,
     "metadata": {},
     "output_type": "execute_result"
    }
   ],
   "source": [
    "list(zip(X.columns, rf_coke.feature_importances_))"
   ]
  },
  {
   "cell_type": "code",
   "execution_count": 1739,
   "metadata": {},
   "outputs": [
    {
     "data": {
      "image/png": "[encoded data removed]",
      "text/plain": [
       "<matplotlib.figure.Figure at 0x1a40f3c6d8>"
      ]
     },
     "metadata": {},
     "output_type": "display_data"
    }
   ],
   "source": [
    "#Cocaine#\n",
    "fpr_rf, tpr_rf, thresholds_rf = metrics.roc_curve(y_test_coke, rf_predicted_probs_coke[:,1])\n",
    "\n",
    "#Lets look at Precision/Recall curve for Linear SVM \n",
    "sns.mpl.pyplot.plot(fpr_rf, tpr_rf, label=\"RF\")\n",
    "sns.mpl.pyplot.plot(fpr_svmlin,thresholds_svmlin, label=\"RF_thresh\")\n",
    "sns.mpl.pyplot.xlim([0, 1])\n",
    "sns.mpl.pyplot.ylim([0, 1.05])\n",
    "sns.mpl.pyplot.title(\"Threshold Curve for Cocaine\")\n",
    "sns.mpl.pyplot.legend(loc=\"center\")\n",
    "sns.mpl.pyplot.xlabel('False Positive Rate (1 - Specificity)')\n",
    "sns.mpl.pyplot.ylabel('True Positive Rate (Recall) or Class 1 Threshold Probability');"
   ]
  },
  {
   "cell_type": "code",
   "execution_count": 1746,
   "metadata": {},
   "outputs": [
    {
     "data": {
      "text/html": [
       "<div>\n",
       "<style>\n",
       "    .dataframe thead tr:only-child th {\n",
       "        text-align: right;\n",
       "    }\n",
       "\n",
       "    .dataframe thead th {\n",
       "        text-align: left;\n",
       "    }\n",
       "\n",
       "    .dataframe tbody tr th {\n",
       "        vertical-align: top;\n",
       "    }\n",
       "</style>\n",
       "<table border=\"1\" class=\"dataframe\">\n",
       "  <thead>\n",
       "    <tr style=\"text-align: right;\">\n",
       "      <th></th>\n",
       "      <th>class_0</th>\n",
       "      <th>class_1</th>\n",
       "      <th>predicted</th>\n",
       "      <th>actual</th>\n",
       "      <th>predicted_02</th>\n",
       "    </tr>\n",
       "  </thead>\n",
       "  <tbody>\n",
       "    <tr>\n",
       "      <th>0</th>\n",
       "      <td>0.916</td>\n",
       "      <td>0.084</td>\n",
       "      <td>0.0</td>\n",
       "      <td>0.0</td>\n",
       "      <td>0.0</td>\n",
       "    </tr>\n",
       "    <tr>\n",
       "      <th>1</th>\n",
       "      <td>0.766</td>\n",
       "      <td>0.234</td>\n",
       "      <td>0.0</td>\n",
       "      <td>0.0</td>\n",
       "      <td>1.0</td>\n",
       "    </tr>\n",
       "    <tr>\n",
       "      <th>2</th>\n",
       "      <td>0.812</td>\n",
       "      <td>0.188</td>\n",
       "      <td>0.0</td>\n",
       "      <td>1.0</td>\n",
       "      <td>0.0</td>\n",
       "    </tr>\n",
       "    <tr>\n",
       "      <th>3</th>\n",
       "      <td>0.778</td>\n",
       "      <td>0.222</td>\n",
       "      <td>0.0</td>\n",
       "      <td>0.0</td>\n",
       "      <td>0.0</td>\n",
       "    </tr>\n",
       "    <tr>\n",
       "      <th>4</th>\n",
       "      <td>0.608</td>\n",
       "      <td>0.392</td>\n",
       "      <td>0.0</td>\n",
       "      <td>0.0</td>\n",
       "      <td>1.0</td>\n",
       "    </tr>\n",
       "  </tbody>\n",
       "</table>\n",
       "</div>"
      ],
      "text/plain": [
       "   class_0  class_1  predicted  actual  predicted_02\n",
       "0    0.916    0.084        0.0     0.0           0.0\n",
       "1    0.766    0.234        0.0     0.0           1.0\n",
       "2    0.812    0.188        0.0     1.0           0.0\n",
       "3    0.778    0.222        0.0     0.0           0.0\n",
       "4    0.608    0.392        0.0     0.0           1.0"
      ]
     },
     "execution_count": 1746,
     "metadata": {},
     "output_type": "execute_result"
    }
   ],
   "source": [
    "#Playing with threshold on Linear SVM \n",
    "y_test_rf_df = pd.DataFrame(\n",
    "    np.concatenate((\n",
    "        rf_predicted_probs_coke, \n",
    "        rf_coke_pred.reshape((rf_coke_pred.shape[0],-1)),\n",
    "        y_test_coke.values.reshape((y_test.shape[0],-1))),axis=1\n",
    "    ),\n",
    "    columns = [\"class_0\",\"class_1\",\"predicted\",\"actual\"])\n",
    "\n",
    "#Setting a new threshold value \n",
    "#y_test_linsvm_df[\"predicted_06\"] = (y_test_linsvm_df.class_1 > 0.61).astype(float) #False positives \n",
    "\n",
    "y_test_rf_df[\"predicted_02\"] = (y_test_rf_df.class_1 > 0.23).astype(float) #False negatives \n",
    "\n",
    "y_test_rf_df.head(5)"
   ]
  },
  {
   "cell_type": "code",
   "execution_count": 1747,
   "metadata": {},
   "outputs": [
    {
     "name": "stdout",
     "output_type": "stream",
     "text": [
      "Confusion matrix at original 0.5 threshold:\n",
      " [[422  25]\n",
      " [ 96  23]] \n",
      "\n",
      "Classification Report at original 0.5 threshold:\n",
      "              precision    recall  f1-score   support\n",
      "\n",
      "        0.0       0.81      0.94      0.87       447\n",
      "        1.0       0.48      0.19      0.28       119\n",
      "\n",
      "avg / total       0.74      0.79      0.75       566\n",
      " \n",
      "\n",
      "Confusion matrix at 0.4 threshold:\n",
      " [[290 157]\n",
      " [ 31  88]] \n",
      "\n",
      "Classification Report at 0.4 threshold:\n",
      "              precision    recall  f1-score   support\n",
      "\n",
      "        0.0       0.90      0.65      0.76       447\n",
      "        1.0       0.36      0.74      0.48       119\n",
      "\n",
      "avg / total       0.79      0.67      0.70       566\n",
      " \n",
      "\n"
     ]
    }
   ],
   "source": [
    "print(\"Confusion matrix at original 0.5 threshold:\\n\",metrics.confusion_matrix(y_test_rf_df.actual,\n",
    "                                                                      y_test_rf_df.predicted),\"\\n\")\n",
    "\n",
    "print(\"Classification Report at original 0.5 threshold:\\n\", \n",
    "      metrics.classification_report(y_test_rf_df.actual,y_test_rf_df.predicted),\"\\n\")\n",
    "\n",
    "print(\"Confusion matrix at 0.4 threshold:\\n\",metrics.confusion_matrix(y_test_rf_df.actual,\n",
    "                                                                      y_test_rf_df.predicted_02),\"\\n\")\n",
    "\n",
    "print(\"Classification Report at 0.4 threshold:\\n\", metrics.classification_report(y_test_rf_df.actual,\n",
    "                                                                                 y_test_rf_df.predicted_02),\"\\n\")"
   ]
  },
  {
   "cell_type": "code",
   "execution_count": 1830,
   "metadata": {
    "scrolled": true
   },
   "outputs": [
    {
     "name": "stdout",
     "output_type": "stream",
     "text": [
      "0.67667844523\n",
      "[[293 145]\n",
      " [ 38  90]]\n",
      "             precision    recall  f1-score   support\n",
      "\n",
      "          0       0.89      0.67      0.76       438\n",
      "          1       0.38      0.70      0.50       128\n",
      "\n",
      "avg / total       0.77      0.68      0.70       566\n",
      "\n"
     ]
    },
    {
     "data": {
      "text/plain": [
       "[('Nscore', 0.16364290360718636),\n",
       " ('Escore', 0.15700965708533943),\n",
       " ('Oscore', 0.10137946950537469),\n",
       " ('Ascore', -0.24236884950124526),\n",
       " ('Cscore', -0.18372002362722384),\n",
       " ('Impulsive', -0.070714637976696082),\n",
       " ('SS', 0.78292586536569786)]"
      ]
     },
     "execution_count": 1830,
     "metadata": {},
     "output_type": "execute_result"
    }
   ],
   "source": [
    "#Linear SVM for Cocaine\n",
    "lin_svm_coke = svm.SVC(kernel='linear', probability=True)\n",
    "lin_svm_coke.fit(X_train_scaled_coke, y_train_coke)\n",
    "print(lin_svm_coke.score(X_test_scaled_coke, y_test_coke))\n",
    "lin_svm_pred_coke = lin_svm_coke.predict(X_test_scaled_coke)\n",
    "\n",
    "lin_svm_predicted_probs_coke = lin_svm.predict_proba(X_test_scaled_coke)\n",
    "print(metrics.confusion_matrix(y_test_coke, lin_svm_pred_coke))\n",
    "print(metrics.classification_report(y_test_coke, lin_svm_pred_coke))\n",
    "list(zip(X_test_coke.columns, lin_svm_coke.coef_[0]))"
   ]
  },
  {
   "cell_type": "code",
   "execution_count": 1831,
   "metadata": {},
   "outputs": [
    {
     "data": {
      "text/plain": [
       "['Non-User', 'User']"
      ]
     },
     "execution_count": 1831,
     "metadata": {},
     "output_type": "execute_result"
    }
   ],
   "source": [
    "lin_svm_coke.feature_names = ['Neuroticism: Neurotic individuals are likely to experience feelings \\\n",
    "of anxiety, worry, depression, loneliness and guilt.',\n",
    "                         'Extraversion: Extroverted individuals tend to be more outgoing and social. They recharge around other people.', \n",
    "                         'Openness: Imaginative, curious and open-minded people. Attentiveness to inner feelings and focused on trying new things.',\n",
    "                         'Agreeableness: Agreeable individuals tend to be more empathetic, caring and cooperative towards other people.', \n",
    "                         'Conscientiousness: Goal-oriented, diligent individuals that enjoy having a set schedule and structure. Strong attention to detail.',\n",
    "                         'Impulsiveness: Impulsive individuals tend to display behavior characterized by having little or no forethought of the consequences of their actions.',\n",
    "                         'Sensation-Seeking: Excitement-seeking individuals that are easily bored without high levels of stimulation.']\n",
    "lin_svm_coke.feature_names\n",
    "targets = [\"Non-User\", \"User\"]\n",
    "lin_svm_coke.target_names = targets\n",
    "lin_svm_coke.target_names"
   ]
  },
  {
   "cell_type": "code",
   "execution_count": 1833,
   "metadata": {
    "collapsed": true
   },
   "outputs": [],
   "source": [
    "#Pickling linear svm for nicotine\n",
    "with open(\"lin_svm_coke.pkl\", \"wb\") as f:\n",
    "    pickle.dump(lin_svm_coke, f)\n",
    "\n",
    "#Testing opening pickled model \n",
    "with open(\"lin_svm_coke.pkl\", \"rb\") as f:\n",
    "    lin_svm_coke = pickle.load(f)"
   ]
  },
  {
   "cell_type": "markdown",
   "metadata": {},
   "source": [
    "Ecstasy"
   ]
  },
  {
   "cell_type": "code",
   "execution_count": 726,
   "metadata": {},
   "outputs": [
    {
     "name": "stdout",
     "output_type": "stream",
     "text": [
      "0    1368\n",
      "1     517\n",
      "Name: Ecstasy, dtype: int64\n"
     ]
    }
   ],
   "source": [
    "X = drug_df.iloc[:, [3, 4, 5, 6, 7, 8, 9]]\n",
    "y_e = drug_df.Ecstasy\n",
    "print(drug_df.Ecstasy.value_counts())\n",
    "X_train_e, X_test_e, y_train_e, y_test_e = train_test_split(X, y_e, test_size=0.3, random_state=1234) "
   ]
  },
  {
   "cell_type": "code",
   "execution_count": 727,
   "metadata": {},
   "outputs": [
    {
     "name": "stdout",
     "output_type": "stream",
     "text": [
      "0.736749116608\n",
      "             precision    recall  f1-score   support\n",
      "\n",
      "          0       0.80      0.87      0.83       430\n",
      "          1       0.44      0.32      0.37       136\n",
      "\n",
      "avg / total       0.71      0.74      0.72       566\n",
      "\n"
     ]
    }
   ],
   "source": [
    "#Standardize the personality trait features before running random forests\n",
    "#Scale X dataset for random forests\n",
    "scaler.fit(X_train_e)\n",
    "#Transform train\n",
    "X_train_scaled_e = scaler.transform(X_train_e)\n",
    "#Transform test \n",
    "X_test_scaled_e = scaler.transform(X_test_e)\n",
    "#Model\n",
    "rf_ecstasy = RandomForestClassifier(n_estimators=50, random_state=1234)\n",
    "rf_ecstasy.fit(X_train_scaled_e, y_train_e)\n",
    "ecstasy_pred = rf_ecstasy.predict(X_test_scaled_e)\n",
    "print(metrics.accuracy_score(y_test_e, ecstasy_pred))\n",
    "print(metrics.classification_report(y_test_e, ecstasy_pred))"
   ]
  },
  {
   "cell_type": "code",
   "execution_count": 728,
   "metadata": {},
   "outputs": [
    {
     "data": {
      "text/plain": [
       "[('Nscore', 0.14272326791923393),\n",
       " ('Escore', 0.15068336226025297),\n",
       " ('Oscore', 0.15930567167142623),\n",
       " ('Ascore', 0.13786724580064191),\n",
       " ('Cscore', 0.15476131499623635),\n",
       " ('Impulsive', 0.091814439779862325),\n",
       " ('SS', 0.16284469757234629)]"
      ]
     },
     "execution_count": 728,
     "metadata": {},
     "output_type": "execute_result"
    }
   ],
   "source": [
    "list(zip(X.columns, rf_ecstasy.feature_importances_))"
   ]
  },
  {
   "cell_type": "markdown",
   "metadata": {},
   "source": [
    "Heroin"
   ]
  },
  {
   "cell_type": "code",
   "execution_count": 729,
   "metadata": {},
   "outputs": [
    {
     "name": "stdout",
     "output_type": "stream",
     "text": [
      "0    1767\n",
      "1     118\n",
      "Name: Heroin, dtype: int64\n"
     ]
    }
   ],
   "source": [
    "X = drug_df.iloc[:, [3, 4, 5, 6, 7, 8, 9]]\n",
    "y_heroin = drug_df.Heroin\n",
    "print(drug_df.Heroin.value_counts())\n",
    "X_train_heroin, X_test_heroin, y_train_heroin, y_test_heroin = train_test_split(X, y_e, \n",
    "                                                                                test_size=0.3, random_state=1234) "
   ]
  },
  {
   "cell_type": "code",
   "execution_count": 730,
   "metadata": {},
   "outputs": [
    {
     "name": "stdout",
     "output_type": "stream",
     "text": [
      "0.733215547703\n",
      "             precision    recall  f1-score   support\n",
      "\n",
      "          0       0.80      0.86      0.83       430\n",
      "          1       0.43      0.33      0.37       136\n",
      "\n",
      "avg / total       0.71      0.73      0.72       566\n",
      "\n"
     ]
    }
   ],
   "source": [
    "#Standardize the personality trait features before running random forests\n",
    "#Scale X dataset for random forests\n",
    "scaler.fit(X_train_heroin)\n",
    "#Transform train\n",
    "X_train_scaled_heroin = scaler.transform(X_train_heroin)\n",
    "#Transform test \n",
    "X_test_scaled_heroin = scaler.transform(X_test_heroin)\n",
    "#Model\n",
    "rf_heroin = RandomForestClassifier(n_estimators=50)\n",
    "rf_heroin.fit(X_train_scaled_heroin, y_train_heroin)\n",
    "heroin_pred = rf_heroin.predict(X_test_scaled_heroin)\n",
    "print(metrics.accuracy_score(y_test_heroin, heroin_pred))\n",
    "print(metrics.classification_report(y_test_heroin, heroin_pred))"
   ]
  },
  {
   "cell_type": "code",
   "execution_count": 731,
   "metadata": {},
   "outputs": [
    {
     "data": {
      "text/plain": [
       "array([0, 1])"
      ]
     },
     "execution_count": 731,
     "metadata": {},
     "output_type": "execute_result"
    }
   ],
   "source": [
    "rf_heroin.classes_"
   ]
  },
  {
   "cell_type": "code",
   "execution_count": 732,
   "metadata": {},
   "outputs": [
    {
     "data": {
      "text/plain": [
       "[('Nscore', 0.14717130678928464),\n",
       " ('Escore', 0.14488433744548387),\n",
       " ('Oscore', 0.15645134465268656),\n",
       " ('Ascore', 0.14390271553010806),\n",
       " ('Cscore', 0.1523361160342242),\n",
       " ('Impulsive', 0.09370869548677857),\n",
       " ('SS', 0.16154548406143401)]"
      ]
     },
     "execution_count": 732,
     "metadata": {},
     "output_type": "execute_result"
    }
   ],
   "source": [
    "list(zip(X.columns, rf_heroin.feature_importances_))"
   ]
  },
  {
   "cell_type": "code",
   "execution_count": 733,
   "metadata": {},
   "outputs": [
    {
     "name": "stdout",
     "output_type": "stream",
     "text": [
      "Index(['Nscore', 'Escore', 'Oscore', 'Ascore', 'Cscore', 'Impulsive', 'SS'], dtype='object')\n",
      "0: Non User\n",
      "1: User\n"
     ]
    },
    {
     "data": {
      "text/plain": [
       "[(0, 0.66000000000000003), (1, 0.34000000000000002)]"
      ]
     },
     "execution_count": 733,
     "metadata": {},
     "output_type": "execute_result"
    }
   ],
   "source": [
    "#Predictions with Heroin Model\n",
    "print(X.columns)\n",
    "heroin_predict_probas = rf_heroin.predict_proba([[1.0, 0, 1.34, 0.23, 1.02, -0.1, 0.4]])[0]\n",
    "print(\"0: Non User\")\n",
    "print(\"1: User\")\n",
    "list(zip(rf_heroin.classes_, heroin_predict_probas))"
   ]
  },
  {
   "cell_type": "markdown",
   "metadata": {},
   "source": [
    "Ketamine"
   ]
  },
  {
   "cell_type": "code",
   "execution_count": 790,
   "metadata": {},
   "outputs": [
    {
     "name": "stdout",
     "output_type": "stream",
     "text": [
      "0    1677\n",
      "1     208\n",
      "Name: Ket, dtype: int64\n"
     ]
    }
   ],
   "source": [
    "X = drug_df.iloc[:, [3, 4, 5, 6, 7, 8, 9]]\n",
    "y_ket = drug_df.Ket\n",
    "print(drug_df.Ket.value_counts())\n",
    "X_train_ket, X_test_ket, y_train_ket, y_test_ket = train_test_split(X, y_ket, \n",
    "                                                                    test_size=0.3) "
   ]
  },
  {
   "cell_type": "code",
   "execution_count": 791,
   "metadata": {},
   "outputs": [
    {
     "name": "stdout",
     "output_type": "stream",
     "text": [
      "0.871024734982\n",
      "             precision    recall  f1-score   support\n",
      "\n",
      "          0       0.87      1.00      0.93       493\n",
      "          1       0.50      0.03      0.05        73\n",
      "\n",
      "avg / total       0.83      0.87      0.82       566\n",
      "\n"
     ]
    }
   ],
   "source": [
    "#Standardize the personality trait features before running random forests\n",
    "#Scale X dataset for random forests\n",
    "scaler.fit(X_train_ket)\n",
    "#Transform train\n",
    "X_train_scaled_ket = scaler.transform(X_train_ket)\n",
    "#Transform test \n",
    "X_test_scaled_ket = scaler.transform(X_test_ket)\n",
    "#Model\n",
    "rf_ket = RandomForestClassifier(n_estimators=50)\n",
    "rf_ket.fit(X_train_scaled_ket, y_train_ket)\n",
    "ket_pred = rf_ket.predict(X_test_scaled_ket)\n",
    "print(metrics.accuracy_score(y_test_ket, ket_pred))\n",
    "print(metrics.classification_report(y_test_ket, ket_pred))"
   ]
  },
  {
   "cell_type": "code",
   "execution_count": 792,
   "metadata": {},
   "outputs": [
    {
     "name": "stdout",
     "output_type": "stream",
     "text": [
      "Index(['Nscore', 'Escore', 'Oscore', 'Ascore', 'Cscore', 'Impulsive', 'SS'], dtype='object')\n",
      "0: Non User\n",
      "1: User\n"
     ]
    },
    {
     "data": {
      "text/plain": [
       "[(0, 0.71999999999999997), (1, 0.28000000000000003)]"
      ]
     },
     "execution_count": 792,
     "metadata": {},
     "output_type": "execute_result"
    }
   ],
   "source": [
    "print(X.columns)\n",
    "ketamine_predict_probas = rf_ket.predict_proba([[-1, -3, 0, 0, 1, -2, -1]])[0]\n",
    "print(\"0: Non User\")\n",
    "print(\"1: User\")\n",
    "list(zip(rf_ket.classes_, ketamine_predict_probas))"
   ]
  },
  {
   "cell_type": "code",
   "execution_count": 746,
   "metadata": {},
   "outputs": [
    {
     "data": {
      "text/plain": [
       "[('Nscore', 0.15816163724284393),\n",
       " ('Escore', 0.17294061807128194),\n",
       " ('Oscore', 0.15001423930919452),\n",
       " ('Ascore', 0.16236384867677284),\n",
       " ('Cscore', 0.14662308374528205),\n",
       " ('Impulsive', 0.096035983150589962),\n",
       " ('SS', 0.11386058980403473)]"
      ]
     },
     "execution_count": 746,
     "metadata": {},
     "output_type": "execute_result"
    }
   ],
   "source": [
    "list(zip(X.columns, rf_ket.feature_importances_))"
   ]
  },
  {
   "cell_type": "markdown",
   "metadata": {},
   "source": [
    "LSD"
   ]
  },
  {
   "cell_type": "code",
   "execution_count": 747,
   "metadata": {},
   "outputs": [
    {
     "name": "stdout",
     "output_type": "stream",
     "text": [
      "0    1505\n",
      "1     380\n",
      "Name: LSD, dtype: int64\n"
     ]
    }
   ],
   "source": [
    "X = drug_df.iloc[:, [3, 4, 5, 6, 7, 8, 9]]\n",
    "y_lsd = drug_df.LSD\n",
    "print(drug_df.LSD.value_counts())\n",
    "X_train_lsd, X_test_lsd, y_train_lsd, y_test_lsd = train_test_split(X, y_lsd, \n",
    "                                                                    test_size=0.3, random_state=1234) "
   ]
  },
  {
   "cell_type": "code",
   "execution_count": 748,
   "metadata": {},
   "outputs": [
    {
     "name": "stdout",
     "output_type": "stream",
     "text": [
      "0.796819787986\n",
      "             precision    recall  f1-score   support\n",
      "\n",
      "          0       0.83      0.94      0.88       456\n",
      "          1       0.45      0.22      0.29       110\n",
      "\n",
      "avg / total       0.76      0.80      0.77       566\n",
      "\n"
     ]
    }
   ],
   "source": [
    "#Standardize the personality trait features before running random forests\n",
    "#Scale X dataset for random forests\n",
    "scaler.fit(X_train_lsd)\n",
    "#Transform train\n",
    "X_train_scaled_lsd = scaler.transform(X_train_lsd)\n",
    "#Transform test \n",
    "X_test_scaled_lsd = scaler.transform(X_test_lsd)\n",
    "#Model\n",
    "rf_lsd = RandomForestClassifier(n_estimators=50)\n",
    "rf_lsd.fit(X_train_scaled_lsd, y_train_lsd)\n",
    "lsd_pred = rf_lsd.predict(X_test_scaled_lsd)\n",
    "print(metrics.accuracy_score(y_test_lsd, lsd_pred))\n",
    "print(metrics.classification_report(y_test_lsd, lsd_pred))"
   ]
  },
  {
   "cell_type": "code",
   "execution_count": 749,
   "metadata": {},
   "outputs": [
    {
     "data": {
      "text/plain": [
       "[('Nscore', 0.1444325337029968),\n",
       " ('Escore', 0.14247441901780317),\n",
       " ('Oscore', 0.18546737803449109),\n",
       " ('Ascore', 0.14601156174935606),\n",
       " ('Cscore', 0.14849579158764922),\n",
       " ('Impulsive', 0.095534903790801026),\n",
       " ('SS', 0.13758341211690275)]"
      ]
     },
     "execution_count": 749,
     "metadata": {},
     "output_type": "execute_result"
    }
   ],
   "source": [
    "list(zip(X.columns, rf_lsd.feature_importances_))"
   ]
  },
  {
   "cell_type": "code",
   "execution_count": 783,
   "metadata": {},
   "outputs": [
    {
     "name": "stdout",
     "output_type": "stream",
     "text": [
      "Index(['Nscore', 'Escore', 'Oscore', 'Ascore', 'Cscore', 'Impulsive', 'SS'], dtype='object')\n",
      "0: Non User\n",
      "1: User\n"
     ]
    },
    {
     "data": {
      "text/plain": [
       "[(0, 0.59999999999999998), (1, 0.40000000000000002)]"
      ]
     },
     "execution_count": 783,
     "metadata": {},
     "output_type": "execute_result"
    }
   ],
   "source": [
    "print(X.columns)\n",
    "lsd_predict_probas = rf_lsd.predict_proba([[-1.5, 0.5, 0.5, 0, -1, -0.5, 0.5]])[0]\n",
    "print(\"0: Non User\")\n",
    "print(\"1: User\")\n",
    "list(zip(rf_lsd.classes_, lsd_predict_probas))"
   ]
  },
  {
   "cell_type": "code",
   "execution_count": 1208,
   "metadata": {},
   "outputs": [
    {
     "name": "stdout",
     "output_type": "stream",
     "text": [
      "0.685512367491\n",
      "[[302 154]\n",
      " [ 24  86]]\n",
      "             precision    recall  f1-score   support\n",
      "\n",
      "          0       0.93      0.66      0.77       456\n",
      "          1       0.36      0.78      0.49       110\n",
      "\n",
      "avg / total       0.82      0.69      0.72       566\n",
      "\n"
     ]
    },
    {
     "data": {
      "text/plain": [
       "[('Nscore', -0.10313207394700896),\n",
       " ('Escore', -0.24514879789500732),\n",
       " ('Oscore', 0.71905993690594983),\n",
       " ('Ascore', -0.048532055025958698),\n",
       " ('Cscore', -0.15897501263895464),\n",
       " ('Impulsive', -0.097061493755852268),\n",
       " ('SS', 0.75838156650242183)]"
      ]
     },
     "execution_count": 1208,
     "metadata": {},
     "output_type": "execute_result"
    }
   ],
   "source": [
    "#Linear SVM for LSD\n",
    "lin_svm_lsd = svm.SVC(kernel='linear', probability=True, class_weight='balanced')\n",
    "lin_svm_lsd.fit(X_train_scaled_lsd, y_train_lsd)\n",
    "print(lin_svm_lsd.score(X_test_scaled_lsd, y_test_lsd))\n",
    "lin_svm_pred_lsd = lin_svm_lsd.predict(X_test_scaled_lsd)\n",
    "\n",
    "lin_svm_predicted_probs_lsd = lin_svm.predict_proba(X_test_scaled_lsd)\n",
    "print(metrics.confusion_matrix(y_test_lsd, lin_svm_pred_lsd))\n",
    "print(metrics.classification_report(y_test_lsd, lin_svm_pred_lsd))\n",
    "list(zip(X_test_lsd.columns, lin_svm_lsd.coef_[0]))"
   ]
  },
  {
   "cell_type": "markdown",
   "metadata": {},
   "source": [
    "Shrooms"
   ]
  },
  {
   "cell_type": "code",
   "execution_count": 750,
   "metadata": {},
   "outputs": [
    {
     "name": "stdout",
     "output_type": "stream",
     "text": [
      "0    1451\n",
      "1     434\n",
      "Name: Shrooms, dtype: int64\n"
     ]
    }
   ],
   "source": [
    "X = drug_df.iloc[:, [3, 4, 5, 6, 7, 8, 9]]\n",
    "y_shrooms = drug_df.Shrooms\n",
    "print(drug_df.Shrooms.value_counts())\n",
    "X_train_shrooms, X_test_shrooms, y_train_shrooms, y_test_shrooms = train_test_split(X, y_shrooms, \n",
    "                                                                    test_size=0.3, random_state=1234) "
   ]
  },
  {
   "cell_type": "code",
   "execution_count": 751,
   "metadata": {},
   "outputs": [
    {
     "name": "stdout",
     "output_type": "stream",
     "text": [
      "0.775618374558\n",
      "             precision    recall  f1-score   support\n",
      "\n",
      "          0       0.81      0.93      0.87       440\n",
      "          1       0.49      0.24      0.32       126\n",
      "\n",
      "avg / total       0.74      0.78      0.74       566\n",
      "\n"
     ]
    }
   ],
   "source": [
    "#Standardize the personality trait features before running random forests\n",
    "#Scale X dataset for random forests\n",
    "scaler.fit(X_train_shrooms)\n",
    "#Transform train\n",
    "X_train_scaled_shrooms = scaler.transform(X_train_shrooms)\n",
    "#Transform test \n",
    "X_test_scaled_shrooms = scaler.transform(X_test_shrooms)\n",
    "#Model\n",
    "rf_shrooms = RandomForestClassifier(n_estimators=50)\n",
    "rf_shrooms.fit(X_train_scaled_shrooms, y_train_shrooms)\n",
    "shrooms_pred = rf_shrooms.predict(X_test_scaled_shrooms)\n",
    "print(metrics.accuracy_score(y_test_shrooms, shrooms_pred))\n",
    "print(metrics.classification_report(y_test_shrooms, shrooms_pred))"
   ]
  },
  {
   "cell_type": "code",
   "execution_count": 752,
   "metadata": {},
   "outputs": [
    {
     "data": {
      "text/plain": [
       "[('Nscore', 0.15149175607511176),\n",
       " ('Escore', 0.1514081301319215),\n",
       " ('Oscore', 0.1770005325971542),\n",
       " ('Ascore', 0.14940148716706247),\n",
       " ('Cscore', 0.1402248970906754),\n",
       " ('Impulsive', 0.094941026644682486),\n",
       " ('SS', 0.13553217029339218)]"
      ]
     },
     "execution_count": 752,
     "metadata": {},
     "output_type": "execute_result"
    }
   ],
   "source": [
    "list(zip(X.columns, rf_shrooms.feature_importances_))"
   ]
  },
  {
   "cell_type": "markdown",
   "metadata": {},
   "source": [
    "Nicotine"
   ]
  },
  {
   "cell_type": "code",
   "execution_count": 1361,
   "metadata": {},
   "outputs": [
    {
     "name": "stdout",
     "output_type": "stream",
     "text": [
      "1    1060\n",
      "0     825\n",
      "Name: Nicotine, dtype: int64\n"
     ]
    }
   ],
   "source": [
    "X = drug_df.iloc[:, [3, 4, 5, 6, 7, 8, 9]]\n",
    "y_nic = drug_df.Nicotine\n",
    "print(drug_df.Nicotine.value_counts())\n",
    "X_train_nic, X_test_nic, y_train_nic, y_test_nic = train_test_split(X, y_nic, \n",
    "                                                                    test_size=0.3) "
   ]
  },
  {
   "cell_type": "code",
   "execution_count": 1362,
   "metadata": {},
   "outputs": [
    {
     "name": "stdout",
     "output_type": "stream",
     "text": [
      "0.696113074205\n",
      "             precision    recall  f1-score   support\n",
      "\n",
      "          0       0.64      0.61      0.63       236\n",
      "          1       0.73      0.76      0.74       330\n",
      "\n",
      "avg / total       0.69      0.70      0.69       566\n",
      "\n",
      "[[144  92]\n",
      " [ 80 250]]\n"
     ]
    }
   ],
   "source": [
    "#Standardize the personality trait features before running random forests\n",
    "#Scale X dataset for random forests\n",
    "scaler.fit(X_train_nic)\n",
    "#Transform train\n",
    "X_train_scaled_nic = scaler.transform(X_train_nic)\n",
    "#Transform test \n",
    "X_test_scaled_nic = scaler.transform(X_test_nic)\n",
    "#Model\n",
    "rf_nic = RandomForestClassifier(n_estimators=800)\n",
    "rf_nic.fit(X_train_scaled_nic, y_train_nic)\n",
    "nic_pred = rf_nic.predict(X_test_scaled_nic)\n",
    "print(metrics.accuracy_score(y_test_nic, nic_pred))\n",
    "print(metrics.classification_report(y_test_nic, nic_pred))\n",
    "print(metrics.confusion_matrix(y_test_nic, nic_pred))"
   ]
  },
  {
   "cell_type": "code",
   "execution_count": 1363,
   "metadata": {},
   "outputs": [
    {
     "data": {
      "text/plain": [
       "[('Nscore', 0.15589169071360814),\n",
       " ('Escore', 0.14404351954545297),\n",
       " ('Oscore', 0.16687904325292408),\n",
       " ('Ascore', 0.14740827061791115),\n",
       " ('Cscore', 0.15210888059476621),\n",
       " ('Impulsive', 0.095612542452662305),\n",
       " ('SS', 0.13805605282267522)]"
      ]
     },
     "execution_count": 1363,
     "metadata": {},
     "output_type": "execute_result"
    }
   ],
   "source": [
    "list(zip(X.columns, rf_nic.feature_importances_))"
   ]
  },
  {
   "cell_type": "code",
   "execution_count": 1713,
   "metadata": {},
   "outputs": [
    {
     "name": "stdout",
     "output_type": "stream",
     "text": [
      "0.722614840989\n",
      "[[146  90]\n",
      " [ 67 263]]\n",
      "             precision    recall  f1-score   support\n",
      "\n",
      "          0       0.69      0.62      0.65       236\n",
      "          1       0.75      0.80      0.77       330\n",
      "\n",
      "avg / total       0.72      0.72      0.72       566\n",
      "\n"
     ]
    },
    {
     "data": {
      "text/plain": [
       "[('Nscore', 0.11096021360268793),\n",
       " ('Escore', -0.086995425984845554),\n",
       " ('Oscore', 0.30798073217331279),\n",
       " ('Ascore', -0.043426288629540011),\n",
       " ('Cscore', -0.25890165369457918),\n",
       " ('Impulsive', 0.045735951888566717),\n",
       " ('SS', 0.54039034236845396)]"
      ]
     },
     "execution_count": 1713,
     "metadata": {},
     "output_type": "execute_result"
    }
   ],
   "source": [
    "#SVMs for Nicotine\n",
    "lin_svm_nic = svm.SVC(kernel='linear', probability=True)\n",
    "lin_svm_nic.fit(X_train_scaled_nic, y_train_nic)\n",
    "print(lin_svm_nic.score(X_test_scaled_nic, y_test_nic))\n",
    "lin_svm_pred_nic = lin_svm_nic.predict(X_test_scaled_nic)\n",
    "\n",
    "lin_svm_predicted_probs_nic = lin_svm.predict_proba(X_test_scaled_nic)\n",
    "print(metrics.confusion_matrix(y_test_nic, lin_svm_pred_nic))\n",
    "print(metrics.classification_report(y_test_nic, lin_svm_pred_nic))\n",
    "list(zip(X_test_nic.columns, lin_svm_nic.coef_[0]))"
   ]
  },
  {
   "cell_type": "code",
   "execution_count": 1718,
   "metadata": {},
   "outputs": [
    {
     "data": {
      "text/plain": [
       "['Non-User', 'User']"
      ]
     },
     "execution_count": 1718,
     "metadata": {},
     "output_type": "execute_result"
    }
   ],
   "source": [
    "lin_svm_nic.feature_names = ['Neuroticism: Neurotic individuals are likely to experience feelings \\\n",
    "of anxiety, worry, depression, loneliness and guilt.',\n",
    "                         'Extraversion: Extroverted individuals tend to be more outgoing and social. They recharge around other people.', \n",
    "                         'Openness: Imaginative, curious and open-minded people. Attentiveness to inner feelings and focused on trying new things.',\n",
    "                         'Agreeableness: Agreeable individuals tend to be more empathetic, caring and cooperative towards other people.', \n",
    "                         'Conscientiousness: Goal-oriented, diligent individuals that enjoy having a set schedule and structure. Strong attention to detail.',\n",
    "                         'Impulsiveness: Impulsive individuals tend to display behavior characterized by having little or no forethought of the consequences of their actions.',\n",
    "                         'Sensation-Seeking: Excitement-seeking individuals that are easily bored without high levels of stimulation.']\n",
    "lin_svm_nic.feature_names\n",
    "targets = [\"Non-User\", \"User\"]\n",
    "lin_svm_nic.target_names = targets\n",
    "lin_svm_nic.target_names"
   ]
  },
  {
   "cell_type": "code",
   "execution_count": 1721,
   "metadata": {
    "collapsed": true
   },
   "outputs": [],
   "source": [
    "#Pickling linear svm for nicotine\n",
    "with open(\"lin_svm_nic.pkl\", \"wb\") as f:\n",
    "    pickle.dump(lin_svm_nic, f)"
   ]
  },
  {
   "cell_type": "code",
   "execution_count": 1722,
   "metadata": {
    "collapsed": true
   },
   "outputs": [],
   "source": [
    "#Testing opening pickled model \n",
    "with open(\"lin_svm_nic.pkl\", \"rb\") as f:\n",
    "    lin_svm_nic_pickle = pickle.load(f)"
   ]
  },
  {
   "cell_type": "code",
   "execution_count": 1699,
   "metadata": {},
   "outputs": [
    {
     "data": {
      "image/png": "[encoded data removed]",
      "text/plain": [
       "<matplotlib.figure.Figure at 0x1a2eccf978>"
      ]
     },
     "metadata": {},
     "output_type": "display_data"
    }
   ],
   "source": [
    "#NICOTINE#\n",
    "fpr_svmlin, tpr_svmlin, thresholds_svmlin = metrics.roc_curve(y_test_nic, lin_svm_predicted_probs_nic[:,1])\n",
    "#Lets look at Precision/Recall curve for Linear SVM \n",
    "sns.mpl.pyplot.plot(fpr_svmlin, tpr_svmlin,label=\"lin_svm\")\n",
    "sns.mpl.pyplot.plot(fpr_svmlin,thresholds_svmlin, label=\"lin_svm_thresh\")\n",
    "sns.mpl.pyplot.xlim([0, 1])\n",
    "sns.mpl.pyplot.ylim([0, 1.05])\n",
    "sns.mpl.pyplot.title(\"Threshold Curve for Nicotine\")\n",
    "sns.mpl.pyplot.legend(loc=\"center\")\n",
    "sns.mpl.pyplot.xlabel('False Positive Rate (1 - Specificity)')\n",
    "sns.mpl.pyplot.ylabel('True Positive Rate (Recall) or Class 1 Threshold Probability');\n"
   ]
  },
  {
   "cell_type": "code",
   "execution_count": 1711,
   "metadata": {},
   "outputs": [
    {
     "data": {
      "text/html": [
       "<div>\n",
       "<style>\n",
       "    .dataframe thead tr:only-child th {\n",
       "        text-align: right;\n",
       "    }\n",
       "\n",
       "    .dataframe thead th {\n",
       "        text-align: left;\n",
       "    }\n",
       "\n",
       "    .dataframe tbody tr th {\n",
       "        vertical-align: top;\n",
       "    }\n",
       "</style>\n",
       "<table border=\"1\" class=\"dataframe\">\n",
       "  <thead>\n",
       "    <tr style=\"text-align: right;\">\n",
       "      <th></th>\n",
       "      <th>class_0</th>\n",
       "      <th>class_1</th>\n",
       "      <th>predicted</th>\n",
       "      <th>actual</th>\n",
       "      <th>predicted_04</th>\n",
       "    </tr>\n",
       "  </thead>\n",
       "  <tbody>\n",
       "    <tr>\n",
       "      <th>0</th>\n",
       "      <td>0.550613</td>\n",
       "      <td>0.449387</td>\n",
       "      <td>0.0</td>\n",
       "      <td>0.0</td>\n",
       "      <td>1.0</td>\n",
       "    </tr>\n",
       "    <tr>\n",
       "      <th>1</th>\n",
       "      <td>0.871884</td>\n",
       "      <td>0.128116</td>\n",
       "      <td>0.0</td>\n",
       "      <td>1.0</td>\n",
       "      <td>0.0</td>\n",
       "    </tr>\n",
       "    <tr>\n",
       "      <th>2</th>\n",
       "      <td>0.281236</td>\n",
       "      <td>0.718764</td>\n",
       "      <td>1.0</td>\n",
       "      <td>1.0</td>\n",
       "      <td>1.0</td>\n",
       "    </tr>\n",
       "    <tr>\n",
       "      <th>3</th>\n",
       "      <td>0.487178</td>\n",
       "      <td>0.512822</td>\n",
       "      <td>1.0</td>\n",
       "      <td>1.0</td>\n",
       "      <td>1.0</td>\n",
       "    </tr>\n",
       "    <tr>\n",
       "      <th>4</th>\n",
       "      <td>0.806482</td>\n",
       "      <td>0.193518</td>\n",
       "      <td>0.0</td>\n",
       "      <td>0.0</td>\n",
       "      <td>0.0</td>\n",
       "    </tr>\n",
       "  </tbody>\n",
       "</table>\n",
       "</div>"
      ],
      "text/plain": [
       "    class_0   class_1  predicted  actual  predicted_04\n",
       "0  0.550613  0.449387        0.0     0.0           1.0\n",
       "1  0.871884  0.128116        0.0     1.0           0.0\n",
       "2  0.281236  0.718764        1.0     1.0           1.0\n",
       "3  0.487178  0.512822        1.0     1.0           1.0\n",
       "4  0.806482  0.193518        0.0     0.0           0.0"
      ]
     },
     "execution_count": 1711,
     "metadata": {},
     "output_type": "execute_result"
    }
   ],
   "source": [
    "#Playing with threshold on Linear SVM \n",
    "y_test_linsvm_df = pd.DataFrame(\n",
    "    np.concatenate((\n",
    "        lin_svm_predicted_probs_nic, \n",
    "        lin_svm_pred_nic.reshape((lin_svm_pred_nic.shape[0],-1)),\n",
    "        y_test_nic.values.reshape((y_test.shape[0],-1))),axis=1\n",
    "    ),\n",
    "    columns = [\"class_0\",\"class_1\",\"predicted\",\"actual\"])\n",
    "\n",
    "#Setting a new threshold value \n",
    "#y_test_linsvm_df[\"predicted_06\"] = (y_test_linsvm_df.class_1 > 0.61).astype(float) #False positives \n",
    "\n",
    "y_test_linsvm_df[\"predicted_04\"] = (y_test_linsvm_df.class_1 > 0.4).astype(float) #False negatives \n",
    "\n",
    "y_test_linsvm_df.head(5)"
   ]
  },
  {
   "cell_type": "code",
   "execution_count": 1712,
   "metadata": {},
   "outputs": [
    {
     "name": "stdout",
     "output_type": "stream",
     "text": [
      "Confusion matrix at original 0.5 threshold:\n",
      " [[146  90]\n",
      " [ 67 263]] \n",
      "\n",
      "Classification Report at original 0.5 threshold:\n",
      "              precision    recall  f1-score   support\n",
      "\n",
      "        0.0       0.69      0.62      0.65       236\n",
      "        1.0       0.75      0.80      0.77       330\n",
      "\n",
      "avg / total       0.72      0.72      0.72       566\n",
      " \n",
      "\n",
      "Confusion matrix at 0.4 threshold:\n",
      " [[121 115]\n",
      " [ 66 264]] \n",
      "\n",
      "Classification Report at 0.4 threshold:\n",
      "              precision    recall  f1-score   support\n",
      "\n",
      "        0.0       0.65      0.51      0.57       236\n",
      "        1.0       0.70      0.80      0.74       330\n",
      "\n",
      "avg / total       0.68      0.68      0.67       566\n",
      " \n",
      "\n"
     ]
    }
   ],
   "source": [
    "print(\"Confusion matrix at original 0.5 threshold:\\n\",metrics.confusion_matrix(y_test_linsvm_df.actual,\n",
    "                                                                      y_test_linsvm_df.predicted),\"\\n\")\n",
    "\n",
    "print(\"Classification Report at original 0.5 threshold:\\n\", \n",
    "      metrics.classification_report(y_test_linsvm_df.actual,y_test_linsvm_df.predicted),\"\\n\")\n",
    "\n",
    "print(\"Confusion matrix at 0.4 threshold:\\n\",metrics.confusion_matrix(y_test_linsvm_df.actual,\n",
    "                                                                      y_test_linsvm_df.predicted_04),\"\\n\")\n",
    "\n",
    "print(\"Classification Report at 0.4 threshold:\\n\", metrics.classification_report(y_test_linsvm_df.actual,\n",
    "                                                                                 y_test_linsvm_df.predicted_04),\"\\n\")"
   ]
  },
  {
   "cell_type": "markdown",
   "metadata": {},
   "source": [
    " # Multilabel Experimentation\n",
    " \n",
    " Random Forest Classifier"
   ]
  },
  {
   "cell_type": "code",
   "execution_count": 1247,
   "metadata": {
    "collapsed": true
   },
   "outputs": [],
   "source": [
    "#Multilabel Time\n",
    "X = drug_df.drop(['Alc', 'Benzos', 'Weed', 'Coke',\n",
    "                  'Ecstasy', 'Heroin', 'Ket', 'LSD',\n",
    "                  'Shrooms', 'Nicotine'], axis=1)\n",
    "\n",
    "y = drug_df.l oc[:, ['Alc', 'Benzos', 'Weed', 'Coke', \n",
    "                    'Ecstasy', 'Heroin', 'Ket', 'LSD', \n",
    "                    'Shrooms', 'Nicotine']]"
   ]
  },
  {
   "cell_type": "code",
   "execution_count": 1248,
   "metadata": {
    "collapsed": true,
    "scrolled": true
   },
   "outputs": [],
   "source": [
    "#Train Test Split\n",
    "X_train_mult, X_test_mult, y_train_mult, y_test_mult = train_test_split(X, y, test_size = 0.3)"
   ]
  },
  {
   "cell_type": "code",
   "execution_count": 1256,
   "metadata": {
    "collapsed": true
   },
   "outputs": [],
   "source": [
    "#Model\n",
    "rf_mult = RandomForestClassifier(n_estimators=950)\n",
    "\n",
    "#Class Weights\n",
    "#[{0:10, 1:1},{0:1, 1:2.5},{0:1, 1:1},\n",
    "# {0:1, 1:3},{0:1, 1:2.5},{0:1, 1:10},\n",
    "# {0:1, 1:5},{0:1,1:4},{0:1, 1:4},\n",
    "# {0:1, 1:1}]\n",
    "\n",
    "rf_mult.fit(X_train_mult, y_train_mult)\n",
    "y_pred_mult = rf_mult.predict(X_test_mult)"
   ]
  },
  {
   "cell_type": "code",
   "execution_count": 1257,
   "metadata": {
    "scrolled": true
   },
   "outputs": [
    {
     "name": "stdout",
     "output_type": "stream",
     "text": [
      "1    1224\n",
      "0      95\n",
      "Name: Alc, dtype: int64\n",
      "0    941\n",
      "1    378\n",
      "Name: Benzos, dtype: int64\n",
      "1    711\n",
      "0    608\n",
      "Name: Weed, dtype: int64\n",
      "0    1023\n",
      "1     296\n",
      "Name: Coke, dtype: int64\n",
      "0    949\n",
      "1    370\n",
      "Name: Ecstasy, dtype: int64\n",
      "0    1233\n",
      "1      86\n",
      "Name: Heroin, dtype: int64\n",
      "0    1171\n",
      "1     148\n",
      "Name: Ket, dtype: int64\n",
      "0    1047\n",
      "1     272\n",
      "Name: LSD, dtype: int64\n",
      "0    1007\n",
      "1     312\n",
      "Name: Shrooms, dtype: int64\n",
      "1    742\n",
      "0    577\n",
      "Name: Nicotine, dtype: int64\n"
     ]
    }
   ],
   "source": [
    "for i in y_train_mult.columns:\n",
    "    print(y_train_mult[i].value_counts())"
   ]
  },
  {
   "cell_type": "code",
   "execution_count": 1258,
   "metadata": {},
   "outputs": [
    {
     "data": {
      "text/plain": [
       "[('Alc', array([0, 1])),\n",
       " ('Benzos', array([0, 1])),\n",
       " ('Weed', array([0, 1])),\n",
       " ('Coke', array([0, 1])),\n",
       " ('Ecstasy', array([0, 1])),\n",
       " ('Heroin', array([0, 1])),\n",
       " ('Ket', array([0, 1])),\n",
       " ('LSD', array([0, 1])),\n",
       " ('Shrooms', array([0, 1])),\n",
       " ('Nicotine', array([0, 1]))]"
      ]
     },
     "execution_count": 1258,
     "metadata": {},
     "output_type": "execute_result"
    }
   ],
   "source": [
    "list(zip(y_test_mult, rf_mult.classes_))"
   ]
  },
  {
   "cell_type": "code",
   "execution_count": 1259,
   "metadata": {},
   "outputs": [
    {
     "name": "stdout",
     "output_type": "stream",
     "text": [
      "Multilabel Test Accuracy Score: 0.3074204947\n",
      "Multilabel Test F1 Score: 0.739400241004\n"
     ]
    }
   ],
   "source": [
    "print(\"Multilabel Test Accuracy Score:\", accuracy_score(y_test_mult, y_pred_mult))\n",
    "print(\"Multilabel Test F1 Score:\", metrics.f1_score(y_test_mult, y_pred_mult, average='weighted'))"
   ]
  },
  {
   "cell_type": "code",
   "execution_count": 1260,
   "metadata": {
    "scrolled": true
   },
   "outputs": [
    {
     "data": {
      "text/html": [
       "<div>\n",
       "<style>\n",
       "    .dataframe thead tr:only-child th {\n",
       "        text-align: right;\n",
       "    }\n",
       "\n",
       "    .dataframe thead th {\n",
       "        text-align: left;\n",
       "    }\n",
       "\n",
       "    .dataframe tbody tr th {\n",
       "        vertical-align: top;\n",
       "    }\n",
       "</style>\n",
       "<table border=\"1\" class=\"dataframe\">\n",
       "  <thead>\n",
       "    <tr style=\"text-align: right;\">\n",
       "      <th></th>\n",
       "      <th>Feature</th>\n",
       "      <th>Importance</th>\n",
       "    </tr>\n",
       "  </thead>\n",
       "  <tbody>\n",
       "    <tr>\n",
       "      <th>5</th>\n",
       "      <td>Oscore</td>\n",
       "      <td>0.090279</td>\n",
       "    </tr>\n",
       "    <tr>\n",
       "      <th>9</th>\n",
       "      <td>SS</td>\n",
       "      <td>0.086610</td>\n",
       "    </tr>\n",
       "    <tr>\n",
       "      <th>7</th>\n",
       "      <td>Cscore</td>\n",
       "      <td>0.084979</td>\n",
       "    </tr>\n",
       "    <tr>\n",
       "      <th>3</th>\n",
       "      <td>Nscore</td>\n",
       "      <td>0.082786</td>\n",
       "    </tr>\n",
       "    <tr>\n",
       "      <th>10</th>\n",
       "      <td>Amphet</td>\n",
       "      <td>0.080864</td>\n",
       "    </tr>\n",
       "    <tr>\n",
       "      <th>6</th>\n",
       "      <td>Ascore</td>\n",
       "      <td>0.080445</td>\n",
       "    </tr>\n",
       "    <tr>\n",
       "      <th>4</th>\n",
       "      <td>Escore</td>\n",
       "      <td>0.078646</td>\n",
       "    </tr>\n",
       "    <tr>\n",
       "      <th>0</th>\n",
       "      <td>Age</td>\n",
       "      <td>0.077839</td>\n",
       "    </tr>\n",
       "    <tr>\n",
       "      <th>8</th>\n",
       "      <td>Impulsive</td>\n",
       "      <td>0.060679</td>\n",
       "    </tr>\n",
       "    <tr>\n",
       "      <th>2</th>\n",
       "      <td>Education</td>\n",
       "      <td>0.059488</td>\n",
       "    </tr>\n",
       "    <tr>\n",
       "      <th>21</th>\n",
       "      <td>UK</td>\n",
       "      <td>0.050724</td>\n",
       "    </tr>\n",
       "    <tr>\n",
       "      <th>15</th>\n",
       "      <td>USA</td>\n",
       "      <td>0.036076</td>\n",
       "    </tr>\n",
       "    <tr>\n",
       "      <th>14</th>\n",
       "      <td>Meth</td>\n",
       "      <td>0.034166</td>\n",
       "    </tr>\n",
       "    <tr>\n",
       "      <th>1</th>\n",
       "      <td>Gender</td>\n",
       "      <td>0.026549</td>\n",
       "    </tr>\n",
       "    <tr>\n",
       "      <th>13</th>\n",
       "      <td>Crack</td>\n",
       "      <td>0.015378</td>\n",
       "    </tr>\n",
       "    <tr>\n",
       "      <th>24</th>\n",
       "      <td>White</td>\n",
       "      <td>0.009220</td>\n",
       "    </tr>\n",
       "    <tr>\n",
       "      <th>17</th>\n",
       "      <td>Other</td>\n",
       "      <td>0.007897</td>\n",
       "    </tr>\n",
       "    <tr>\n",
       "      <th>20</th>\n",
       "      <td>Canada</td>\n",
       "      <td>0.006362</td>\n",
       "    </tr>\n",
       "    <tr>\n",
       "      <th>18</th>\n",
       "      <td>Australia</td>\n",
       "      <td>0.005712</td>\n",
       "    </tr>\n",
       "    <tr>\n",
       "      <th>26</th>\n",
       "      <td>Other</td>\n",
       "      <td>0.004982</td>\n",
       "    </tr>\n",
       "    <tr>\n",
       "      <th>11</th>\n",
       "      <td>Caffeine</td>\n",
       "      <td>0.004056</td>\n",
       "    </tr>\n",
       "    <tr>\n",
       "      <th>12</th>\n",
       "      <td>Chocolate</td>\n",
       "      <td>0.004024</td>\n",
       "    </tr>\n",
       "    <tr>\n",
       "      <th>23</th>\n",
       "      <td>Asian</td>\n",
       "      <td>0.002515</td>\n",
       "    </tr>\n",
       "    <tr>\n",
       "      <th>22</th>\n",
       "      <td>Black</td>\n",
       "      <td>0.002439</td>\n",
       "    </tr>\n",
       "    <tr>\n",
       "      <th>19</th>\n",
       "      <td>Ireland</td>\n",
       "      <td>0.002333</td>\n",
       "    </tr>\n",
       "    <tr>\n",
       "      <th>27</th>\n",
       "      <td>Mixed_WA</td>\n",
       "      <td>0.002147</td>\n",
       "    </tr>\n",
       "    <tr>\n",
       "      <th>25</th>\n",
       "      <td>Mixed_WB</td>\n",
       "      <td>0.001846</td>\n",
       "    </tr>\n",
       "    <tr>\n",
       "      <th>28</th>\n",
       "      <td>Mixed_BA</td>\n",
       "      <td>0.000496</td>\n",
       "    </tr>\n",
       "    <tr>\n",
       "      <th>16</th>\n",
       "      <td>NZ</td>\n",
       "      <td>0.000463</td>\n",
       "    </tr>\n",
       "  </tbody>\n",
       "</table>\n",
       "</div>"
      ],
      "text/plain": [
       "      Feature  Importance\n",
       "5      Oscore    0.090279\n",
       "9          SS    0.086610\n",
       "7      Cscore    0.084979\n",
       "3      Nscore    0.082786\n",
       "10     Amphet    0.080864\n",
       "6      Ascore    0.080445\n",
       "4      Escore    0.078646\n",
       "0         Age    0.077839\n",
       "8   Impulsive    0.060679\n",
       "2   Education    0.059488\n",
       "21         UK    0.050724\n",
       "15        USA    0.036076\n",
       "14       Meth    0.034166\n",
       "1      Gender    0.026549\n",
       "13      Crack    0.015378\n",
       "24      White    0.009220\n",
       "17      Other    0.007897\n",
       "20     Canada    0.006362\n",
       "18  Australia    0.005712\n",
       "26      Other    0.004982\n",
       "11   Caffeine    0.004056\n",
       "12  Chocolate    0.004024\n",
       "23      Asian    0.002515\n",
       "22      Black    0.002439\n",
       "19    Ireland    0.002333\n",
       "27   Mixed_WA    0.002147\n",
       "25   Mixed_WB    0.001846\n",
       "28   Mixed_BA    0.000496\n",
       "16         NZ    0.000463"
      ]
     },
     "execution_count": 1260,
     "metadata": {},
     "output_type": "execute_result"
    }
   ],
   "source": [
    "pd.DataFrame({'Feature':X_test_mult.columns,\n",
    "              'Importance':rf_mult.feature_importances_}).sort_values(by='Importance', ascending=False)"
   ]
  },
  {
   "cell_type": "code",
   "execution_count": 1261,
   "metadata": {
    "scrolled": true
   },
   "outputs": [
    {
     "name": "stdout",
     "output_type": "stream",
     "text": [
      "             precision    recall  f1-score   support\n",
      "\n",
      "          0       0.93      1.00      0.96       525\n",
      "          1       0.75      0.56      0.64       157\n",
      "          2       0.83      0.89      0.86       288\n",
      "          3       0.73      0.39      0.51       121\n",
      "          4       0.73      0.56      0.64       147\n",
      "          5       0.25      0.03      0.06        32\n",
      "          6       1.00      0.03      0.06        60\n",
      "          7       0.68      0.56      0.61       108\n",
      "          8       0.56      0.50      0.53       122\n",
      "          9       0.73      0.80      0.76       318\n",
      "\n",
      "avg / total       0.79      0.73      0.74      1878\n",
      "\n"
     ]
    }
   ],
   "source": [
    "print(metrics.classification_report(y_test_mult, y_pred_mult))"
   ]
  },
  {
   "cell_type": "code",
   "execution_count": 1255,
   "metadata": {},
   "outputs": [
    {
     "data": {
      "text/plain": [
       "Index(['Age', 'Gender', 'Education', 'Nscore', 'Escore', 'Oscore', 'Ascore',\n",
       "       'Cscore', 'Impulsive', 'SS', 'Alc', 'Amphet', 'Benzos', 'Caffeine',\n",
       "       'Weed', 'Chocolate', 'Coke', 'Crack', 'Ecstasy', 'Heroin', 'Ket', 'LSD',\n",
       "       'Meth', 'Shrooms', 'Nicotine', 'USA', 'NZ', 'Other', 'Australia',\n",
       "       'Ireland', 'Canada', 'UK', 'Black', 'Asian', 'White', 'Mixed_WB',\n",
       "       'Other', 'Mixed_WA', 'Mixed_BA'],\n",
       "      dtype='object')"
      ]
     },
     "execution_count": 1255,
     "metadata": {},
     "output_type": "execute_result"
    }
   ],
   "source": [
    "drug_df.columns"
   ]
  }
 ],
 "metadata": {
  "kernelspec": {
   "display_name": "Python 3",
   "language": "python",
   "name": "python3"
  },
  "language_info": {
   "codemirror_mode": {
    "name": "ipython",
    "version": 3
   },
   "file_extension": ".py",
   "mimetype": "text/x-python",
   "name": "python",
   "nbconvert_exporter": "python",
   "pygments_lexer": "ipython3",
   "version": "3.6.4"
  }
 },
 "nbformat": 4,
 "nbformat_minor": 2
}
